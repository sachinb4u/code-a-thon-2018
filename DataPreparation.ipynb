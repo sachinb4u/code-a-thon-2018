{
 "cells": [
  {
   "cell_type": "markdown",
   "metadata": {},
   "source": [
    "# Prepare synthetic data for simulating health information in normal and abnormal behavior"
   ]
  },
  {
   "cell_type": "code",
   "execution_count": 1,
   "metadata": {},
   "outputs": [],
   "source": [
    "import numpy as np\n",
    "import pandas as pd"
   ]
  },
  {
   "cell_type": "code",
   "execution_count": 20,
   "metadata": {},
   "outputs": [
    {
     "data": {
      "text/plain": [
       "array([0.49836401, 0.18200019, 0.60408606, 0.69428413, 0.06136114,\n",
       "       0.91370535, 0.03856261, 0.84469662, 0.62250644, 0.5834033 ])"
      ]
     },
     "execution_count": 20,
     "metadata": {},
     "output_type": "execute_result"
    }
   ],
   "source": [
    "np.random.random(10)"
   ]
  },
  {
   "cell_type": "code",
   "execution_count": 21,
   "metadata": {},
   "outputs": [
    {
     "data": {
      "text/plain": [
       "array([0.48488959, 0.57197296, 0.5530257 , 0.77603435, 0.54176419,\n",
       "       0.48445027, 0.6543045 , 0.75514447, 0.67402141, 0.58272646,\n",
       "       0.62891422, 0.36751273, 0.73942229, 0.81089727, 0.67487456,\n",
       "       0.62511416, 0.64958496, 0.61081318, 0.61301855, 0.42736047,\n",
       "       0.60677867, 0.90708815, 0.4470461 , 0.73013771, 0.5077626 ,\n",
       "       0.70812689, 0.56215364, 0.59682564, 0.54909676, 0.5297763 ,\n",
       "       0.54360385, 0.46488992, 0.61574431, 0.64756014, 0.60378657,\n",
       "       0.57134032, 0.67301365, 0.54901975, 0.62301395, 0.46383201,\n",
       "       0.49046817, 0.46189888, 0.66526243, 0.63579122, 0.64826129,\n",
       "       0.61679546, 0.66919095, 0.55016146, 0.64975204, 0.6575432 ,\n",
       "       0.55421336, 0.69395236, 0.56499156, 0.59735091, 0.51814803,\n",
       "       0.5263369 , 0.73253151, 0.72051814, 0.54321805, 0.61143487,\n",
       "       0.73975966, 0.5540566 , 0.67023149, 0.60979533, 0.37693447,\n",
       "       0.58037782, 0.54441508, 0.73808984, 0.50166939, 0.68588564,\n",
       "       0.5891846 , 0.57300576, 0.63675012, 0.54000015, 0.63839566,\n",
       "       0.65958367, 0.66753496, 0.824272  , 0.81050042, 0.43352777,\n",
       "       0.62495079, 0.69559585, 0.76826083, 0.62119885, 0.53662963,\n",
       "       0.45028488, 0.60717988, 0.72711128, 0.57090746, 0.76295356,\n",
       "       0.72540974, 0.4906821 , 0.5791054 , 0.67045918, 0.65661958,\n",
       "       0.55958832, 0.65511222, 0.55365585, 0.47929879, 0.57376522])"
      ]
     },
     "execution_count": 21,
     "metadata": {},
     "output_type": "execute_result"
    }
   ],
   "source": [
    "normal_cpu_utilization = np.random.normal(0.6,0.1, 100)\n",
    "normal_cpu_utilization"
   ]
  },
  {
   "cell_type": "code",
   "execution_count": 22,
   "metadata": {},
   "outputs": [
    {
     "data": {
      "text/plain": [
       "array([0.9571703 , 0.81530472, 0.85718408, 0.83603838, 1.11909429,\n",
       "       0.69136192, 0.85627993, 0.86176871, 1.02552071, 0.92629116])"
      ]
     },
     "execution_count": 22,
     "metadata": {},
     "output_type": "execute_result"
    }
   ],
   "source": [
    "abnormal_cpu_utilization = np.random.normal(0.9,0.1, 10)\n",
    "abnormal_cpu_utilization"
   ]
  },
  {
   "cell_type": "code",
   "execution_count": 23,
   "metadata": {},
   "outputs": [
    {
     "data": {
      "text/plain": [
       "array([0.4428551 , 0.31020524, 0.42230007, 0.27972158, 0.26966688,\n",
       "       0.55882287, 0.45770328, 0.32792615, 0.37489483, 0.34212147,\n",
       "       0.32150806, 0.40855818, 0.23530855, 0.45473138, 0.59999148,\n",
       "       0.48733272, 0.40053625, 0.4254527 , 0.44580893, 0.26454144,\n",
       "       0.32725557, 0.46880078, 0.29968722, 0.30546671, 0.34664008,\n",
       "       0.29235584, 0.27305824, 0.60687741, 0.37142361, 0.32276907,\n",
       "       0.5861041 , 0.3260425 , 0.4415711 , 0.29174092, 0.24548823,\n",
       "       0.40036889, 0.43896948, 0.38586796, 0.514678  , 0.2883634 ,\n",
       "       0.55533782, 0.45828662, 0.57126509, 0.24647254, 0.46715869,\n",
       "       0.61163362, 0.44773861, 0.2260561 , 0.4805067 , 0.27688851,\n",
       "       0.56201294, 0.31047396, 0.40266863, 0.41522844, 0.34993046,\n",
       "       0.41987832, 0.33025186, 0.48903697, 0.35028913, 0.46084319,\n",
       "       0.39449181, 0.42550176, 0.34420708, 0.48438684, 0.42705037,\n",
       "       0.32199757, 0.3333399 , 0.58145312, 0.43099869, 0.43473306,\n",
       "       0.35366827, 0.1962933 , 0.43361307, 0.26598429, 0.3984378 ,\n",
       "       0.39361301, 0.44322703, 0.55779975, 0.37101424, 0.25844778,\n",
       "       0.36366331, 0.56675355, 0.41580545, 0.41759953, 0.30331925,\n",
       "       0.52447677, 0.37682265, 0.25722134, 0.37921766, 0.46114485,\n",
       "       0.27138797, 0.24763476, 0.34966337, 0.42793175, 0.34971486,\n",
       "       0.43607435, 0.46697657, 0.27015829, 0.48682445, 0.51591473])"
      ]
     },
     "execution_count": 23,
     "metadata": {},
     "output_type": "execute_result"
    }
   ],
   "source": [
    "normal_free_heap_percent = np.random.normal(0.4,0.1, 100)\n",
    "normal_free_heap_percent"
   ]
  },
  {
   "cell_type": "code",
   "execution_count": 24,
   "metadata": {},
   "outputs": [
    {
     "data": {
      "text/plain": [
       "array([0.32328888, 0.11413014, 0.47080933, 0.23112048, 0.12122876,\n",
       "       0.07190875, 0.18811452, 0.29416993, 0.2398148 , 0.22396523])"
      ]
     },
     "execution_count": 24,
     "metadata": {},
     "output_type": "execute_result"
    }
   ],
   "source": [
    "abnormal_free_heap_percent = np.random.normal(0.2,0.1, 10)\n",
    "abnormal_free_heap_percent"
   ]
  },
  {
   "cell_type": "code",
   "execution_count": 25,
   "metadata": {},
   "outputs": [
    {
     "data": {
      "text/plain": [
       "array([0.36521859, 0.73175783, 0.6351937 , 0.84177715, 0.21608086,\n",
       "       0.51493568, 0.81471215, 0.08647606, 0.48600385, 0.47657465,\n",
       "       0.32460261, 0.2742387 , 0.4282973 , 0.28748206, 0.64174441,\n",
       "       0.15364148, 0.83574324, 0.67900484, 0.94263979, 0.71885449,\n",
       "       0.53910481, 0.55723106, 0.52495694, 0.56461832, 0.39403665,\n",
       "       0.43026757, 0.56809707, 0.6122728 , 0.83663812, 0.45812772,\n",
       "       0.59715045, 0.75952576, 0.58560523, 0.57720928, 0.24383811,\n",
       "       0.87033691, 1.09983821, 0.70819783, 0.3860762 , 0.50141379,\n",
       "       0.70015616, 0.19431854, 0.30990929, 0.78455059, 0.84431533,\n",
       "       0.91013038, 0.26286135, 0.67813689, 0.62761258, 0.55079646,\n",
       "       0.88750963, 0.59402403, 0.64734967, 0.67589642, 0.79157945,\n",
       "       0.44778461, 0.25699991, 0.40598778, 0.63592017, 0.55987948,\n",
       "       0.18263819, 0.68227832, 0.84648389, 0.44944281, 0.76275846,\n",
       "       0.44654472, 0.07975096, 0.25124271, 0.35075005, 0.58676049,\n",
       "       0.45120542, 0.51137621, 0.32433243, 0.25933982, 0.91786386,\n",
       "       0.0242711 , 0.48220409, 0.79985891, 0.70797645, 0.74914027,\n",
       "       0.47925679, 0.40461127, 0.50508784, 0.58814482, 0.77994829,\n",
       "       0.4079579 , 0.62625718, 0.30440795, 0.81488833, 0.48653159,\n",
       "       0.56388308, 0.52053644, 1.11304548, 0.4131438 , 0.59876272,\n",
       "       0.50217832, 0.75563395, 0.34249175, 0.52366459, 0.43539368])"
      ]
     },
     "execution_count": 25,
     "metadata": {},
     "output_type": "execute_result"
    }
   ],
   "source": [
    "normal_jvm_old_generation_used = np.random.normal(0.5,0.2, 100)\n",
    "normal_jvm_old_generation_used"
   ]
  },
  {
   "cell_type": "code",
   "execution_count": 26,
   "metadata": {},
   "outputs": [
    {
     "data": {
      "text/plain": [
       "array([0.80480538, 0.88671578, 0.68168973, 0.86447841, 0.89815983,\n",
       "       0.60669898, 0.77753188, 0.74038373, 0.80341357, 0.85952954,\n",
       "       0.63899411, 0.57063006, 0.86392325, 0.80121755, 0.817732  ,\n",
       "       0.87477742, 0.9603644 , 0.7222427 , 0.73894683, 0.76140066,\n",
       "       0.87473215, 0.85661525, 0.77472512, 0.97227587, 0.96311097,\n",
       "       0.71283703, 0.70136063, 0.78830032, 0.61549479, 0.71705819,\n",
       "       0.81244796, 0.66111519, 0.97312345, 0.82225312, 0.85499902,\n",
       "       0.71936879, 0.94590668, 0.96191718, 0.81004368, 0.6748172 ,\n",
       "       0.80763066, 0.72039484, 0.8732049 , 0.84952114, 0.83159021,\n",
       "       0.7555739 , 0.83026752, 0.87865809, 0.77222544, 0.66803313,\n",
       "       0.77592516, 0.72189461, 0.74557797, 0.73989267, 0.87090298,\n",
       "       0.578699  , 0.87086791, 0.8097822 , 0.67830528, 0.76833823,\n",
       "       0.77978426, 0.90477561, 0.8339225 , 0.70090171, 0.75934606,\n",
       "       0.99659793, 0.56476143, 0.67907241, 0.95295238, 0.72649232,\n",
       "       0.58150986, 0.87105862, 0.70623431, 0.87457349, 0.81668011,\n",
       "       0.80451827, 1.04775336, 0.71808576, 0.78995985, 0.96950065,\n",
       "       0.72532627, 0.69992171, 1.02243476, 0.8269472 , 0.85613798,\n",
       "       0.90431616, 0.73153793, 0.93356914, 0.83260603, 1.00831159,\n",
       "       0.84419522, 0.94267216, 0.58854004, 0.90437635, 0.94690353,\n",
       "       0.86008625, 0.73417654, 0.89572448, 0.66479447, 0.73891218])"
      ]
     },
     "execution_count": 26,
     "metadata": {},
     "output_type": "execute_result"
    }
   ],
   "source": [
    "abnormal_jvm_old_generation_used = np.random.normal(0.8,0.1, 100)\n",
    "abnormal_jvm_old_generation_used"
   ]
  },
  {
   "cell_type": "markdown",
   "metadata": {},
   "source": [
    "## Features Identified\n",
    "\n",
    "feature 1: avgbackground queue, (1500) [tasknode] <br>\n",
    "feature 2: avg workflow queue, (55) [tasknode]<br>\n",
    "feature 3: avg node manager thread pool size, (5.57) [tasknode] [feature 1,2,3 are related]<br>\n",
    " <br>\n",
    "feature 4 : node id (need to revisit) [can we put node id as feature so that we can backtrack it later ???]<br>\n",
    "feature 5: index=mail, failed post output=ssl ctx set options [source : splunk search] ( 0 normal, 5000+ abnormal)<br>\n",
    "feature 6: product release (value 0,1)<br>\n",
    "feature 7: ui node thread count (normal 250, abnormal 500+) (ims990)<br>\n",
    "feature 8: ariba.ui.aribaweb.util.AWGenericException: java.lang.IllegalStateException: splunk search linked with feature 7<br>\n",
    "feature 9: scheduletaskstatustab query arches batch publishinselectedrealm job exception <br>\n",
    "<br>\n",
    "feature 10: catalogue search time.(38) linked with 1,2,3 feature<br>\n",
    "feature 11: no network connectivity between SNV and US1 - ims-983<br>\n",
    "feature 12: 4310024, \"Failed to get JDBC connection permit ims-980 (normal 0-100, abnormal 100-1000)<br>\n",
    "feature 13: node status fair to critical its-980 (linked with feature 12)<br>\n",
    "feature 14: cloud health index down more than N time in X minutes<br>\n",
    "<br>\n",
    "Feature 15: JVM Heap size getting filled & garbage collector not able to clean the data & frequently garbage collector is running<br>\n",
    "Feature 16: log size getting filled drastically 10%->100% in an hour<br>\n",
    "Feature 17: GT node restarting [Need more data]<br>\n",
    "</p>"
   ]
  },
  {
   "cell_type": "code",
   "execution_count": 27,
   "metadata": {},
   "outputs": [],
   "source": [
    "columns = ['AvgBackgroundQ', 'AvgWorkflowQ', 'AvgThreadPoolSize_NodeMgr', 'NodeId','ProductRelease',\n",
    "          'UiNodeThreadsCount', 'Exception', 'CatalogSearchTime', 'NetworkConnectivitySNV-US1', \n",
    "           'LogSizeVolumePercent']"
   ]
  },
  {
   "cell_type": "code",
   "execution_count": 28,
   "metadata": {},
   "outputs": [],
   "source": [
    "recordsCount = 10"
   ]
  },
  {
   "cell_type": "code",
   "execution_count": 29,
   "metadata": {},
   "outputs": [],
   "source": [
    "df = pd.DataFrame(data=None,columns=columns)"
   ]
  },
  {
   "cell_type": "code",
   "execution_count": 31,
   "metadata": {},
   "outputs": [],
   "source": [
    "df.to_excel('SampleDataset.xlsx',index=False)"
   ]
  },
  {
   "cell_type": "code",
   "execution_count": 32,
   "metadata": {},
   "outputs": [
    {
     "name": "stdout",
     "output_type": "stream",
     "text": [
      "avgBackgroundQ =  [1464 1673 1686 1799 1472 1887 1293 1535 1540 1348]\n",
      "avgWorkflowQ =  [ 48  46  50  58  64  32  33  92  35 109]\n",
      "avgThreadPoolSize =  [ 8  8 11 10  6  5 -1 13  8 12]\n",
      "nodeId =  [62 72 38 75 20 58 79 61 96 38]\n",
      "productRelease =  ['R1.0' 'R1.2' 'R1.0' 'R2.0' 'R2.1' 'R1.2' 'R1.3' 'R2.0' 'R1.0' 'R2.0']\n",
      "uiNodeThreadCount =  [-66  52 559 117 528 202 420 293 131 246]\n"
     ]
    }
   ],
   "source": [
    "avgBackgroundQ = np.round(np.random.normal(1500, 200, recordsCount)).astype(int)\n",
    "avgWorkflowQ = np.round(np.random.normal(55, 20, recordsCount)).astype(int)\n",
    "avgThreadPoolSize = np.round(np.random.normal(8, 4, recordsCount)).astype(int)\n",
    "nodeId = np.round(np.random.randint(1,100,recordsCount)).astype(int)\n",
    "# productRelease = ['r' + str(x) for x in np.random.randint(1,9,10)]\n",
    "productRelease = np.random.choice(['R1.0', 'R1.2', 'R2.0', 'R1.3', 'R2.1', 'R1.4'], recordsCount)\n",
    "uiNodeThreadCount = np.round(np.random.normal(250, 200, recordsCount)).astype(int)\n",
    "\n",
    "print('avgBackgroundQ = ', avgBackgroundQ)\n",
    "print('avgWorkflowQ = ', avgWorkflowQ)\n",
    "print('avgThreadPoolSize = ', avgThreadPoolSize)\n",
    "print('nodeId = ', nodeId)\n",
    "print('productRelease = ', productRelease)\n",
    "print('uiNodeThreadCount = ', uiNodeThreadCount)"
   ]
  },
  {
   "cell_type": "code",
   "execution_count": 33,
   "metadata": {},
   "outputs": [
    {
     "name": "stdout",
     "output_type": "stream",
     "text": [
      "exception =  ['javax.net.ssl.SSLHandshakeException' ''\n",
      " 'javax.net.ssl.SSLHandshakeException' ''\n",
      " 'javax.net.ssl.SSLHandshakeException' 'java.lang.OutOfMemoryException' ''\n",
      " 'AWGenericException: java.lang.IllegalStateException'\n",
      " 'java.lang.OutOfMemoryException'\n",
      " 'AWGenericException: java.lang.IllegalStateException']\n"
     ]
    }
   ],
   "source": [
    "exception = np.random.choice(['AWGenericException: java.lang.IllegalStateException','java.lang.OutOfMemoryException',\n",
    "                              '', 'javax.net.ssl.SSLHandshakeException'], recordsCount)\n",
    "print('exception = ', exception)"
   ]
  },
  {
   "cell_type": "code",
   "execution_count": 34,
   "metadata": {},
   "outputs": [
    {
     "name": "stdout",
     "output_type": "stream",
     "text": [
      "catalogSearchTime =  [45 40 29 31 51 35 53 31 39 38]\n"
     ]
    }
   ],
   "source": [
    "catalogSearchTime = np.round(np.random.normal(38, 10, recordsCount)).astype(int)\n",
    "print('catalogSearchTime = ', catalogSearchTime)"
   ]
  },
  {
   "cell_type": "code",
   "execution_count": 35,
   "metadata": {},
   "outputs": [
    {
     "name": "stdout",
     "output_type": "stream",
     "text": [
      "nwConnectivitySNV_US1 =  [0 1 1 0 1 0 1 1 1 0]\n"
     ]
    }
   ],
   "source": [
    "nwConnectivitySNV_US1 = np.random.randint(0,2,recordsCount)\n",
    "print('nwConnectivitySNV_US1 = ', nwConnectivitySNV_US1)"
   ]
  },
  {
   "cell_type": "code",
   "execution_count": 36,
   "metadata": {},
   "outputs": [
    {
     "name": "stdout",
     "output_type": "stream",
     "text": [
      "logSizeVolumePercent =  [83 66 99 54 52 51 96 76 90 80]\n"
     ]
    }
   ],
   "source": [
    "logSizeVolumePercent = np.random.randint(50,100,recordsCount)\n",
    "print('logSizeVolumePercent = ', logSizeVolumePercent)"
   ]
  },
  {
   "cell_type": "code",
   "execution_count": 37,
   "metadata": {},
   "outputs": [
    {
     "data": {
      "text/plain": [
       "array(['DatabaseConnectionIssue', 'NoIssue', 'OrderIssue', 'InvoiceIssue',\n",
       "       'OrderIssue', 'DatabaseConnectionIssue', 'CommunityIssue',\n",
       "       'CommunityIssue', 'DatabaseConnectionIssue',\n",
       "       'CommunityHealthIssue'], dtype='<U23')"
      ]
     },
     "execution_count": 37,
     "metadata": {},
     "output_type": "execute_result"
    }
   ],
   "source": [
    "incidentTypes = ['NoIssue', 'DatabaseConnectionIssue', 'InvoiceIssue', 'OrderIssue', 'CommunityIssue',\n",
    "                 'WorkspaceSearchIssue' , 'NetworkIssue', 'CommunityHealthIssue' ]\n",
    "labels = np.random.choice(incidentTypes, 10)\n",
    "labels"
   ]
  },
  {
   "cell_type": "code",
   "execution_count": 38,
   "metadata": {},
   "outputs": [
    {
     "name": "stdout",
     "output_type": "stream",
     "text": [
      "all record dates =\n",
      " DatetimeIndex(['2017-01-01', '2017-01-02', '2017-01-03', '2017-01-04',\n",
      "               '2017-01-05', '2017-01-06', '2017-01-07', '2017-01-08',\n",
      "               '2017-01-09', '2017-01-10',\n",
      "               ...\n",
      "               '2017-12-22', '2017-12-23', '2017-12-24', '2017-12-25',\n",
      "               '2017-12-26', '2017-12-27', '2017-12-28', '2017-12-29',\n",
      "               '2017-12-30', '2017-12-31'],\n",
      "              dtype='datetime64[ns]', length=365, freq='D')\n",
      "sample record dates =\n",
      " DatetimeIndex(['2017-01-01', '2017-01-02', '2017-01-03', '2017-01-04',\n",
      "               '2017-01-05', '2017-01-06', '2017-01-07', '2017-01-08',\n",
      "               '2017-01-09', '2017-01-10'],\n",
      "              dtype='datetime64[ns]', freq='D')\n"
     ]
    }
   ],
   "source": [
    "all_reccord_dates = pd.date_range(pd.to_datetime('01-01-2017', format='%d-%m-%Y'), pd.to_datetime('31-12-2017', format='%d-%m-%Y'), freq='D')\n",
    "\n",
    "print('all record dates =\\n', all_reccord_dates)\n",
    "\n",
    "record_dates = all_reccord_dates[:10]\n",
    "print('sample record dates =\\n', record_dates)"
   ]
  },
  {
   "cell_type": "code",
   "execution_count": 39,
   "metadata": {},
   "outputs": [
    {
     "data": {
      "text/html": [
       "<div>\n",
       "<style scoped>\n",
       "    .dataframe tbody tr th:only-of-type {\n",
       "        vertical-align: middle;\n",
       "    }\n",
       "\n",
       "    .dataframe tbody tr th {\n",
       "        vertical-align: top;\n",
       "    }\n",
       "\n",
       "    .dataframe thead th {\n",
       "        text-align: right;\n",
       "    }\n",
       "</style>\n",
       "<table border=\"1\" class=\"dataframe\">\n",
       "  <thead>\n",
       "    <tr style=\"text-align: right;\">\n",
       "      <th></th>\n",
       "      <th>AvgBackgroundQ</th>\n",
       "      <th>AvgThreadPoolSize</th>\n",
       "      <th>AvgWorkflowQ</th>\n",
       "      <th>CatalogSearchTime</th>\n",
       "      <th>Date</th>\n",
       "      <th>Exception</th>\n",
       "      <th>Label</th>\n",
       "      <th>LogSizeVolumePercent</th>\n",
       "      <th>NetworkConnectivitySNV-US1</th>\n",
       "      <th>NodeId</th>\n",
       "      <th>ProductRelease</th>\n",
       "      <th>UiNodeThreadsCount</th>\n",
       "    </tr>\n",
       "  </thead>\n",
       "  <tbody>\n",
       "    <tr>\n",
       "      <th>0</th>\n",
       "      <td>1464</td>\n",
       "      <td>8</td>\n",
       "      <td>48</td>\n",
       "      <td>45</td>\n",
       "      <td>2017-01-01</td>\n",
       "      <td>javax.net.ssl.SSLHandshakeException</td>\n",
       "      <td>DatabaseConnectionIssue</td>\n",
       "      <td>83</td>\n",
       "      <td>0</td>\n",
       "      <td>62</td>\n",
       "      <td>R1.0</td>\n",
       "      <td>-66</td>\n",
       "    </tr>\n",
       "    <tr>\n",
       "      <th>1</th>\n",
       "      <td>1673</td>\n",
       "      <td>8</td>\n",
       "      <td>46</td>\n",
       "      <td>40</td>\n",
       "      <td>2017-01-02</td>\n",
       "      <td></td>\n",
       "      <td>NoIssue</td>\n",
       "      <td>66</td>\n",
       "      <td>1</td>\n",
       "      <td>72</td>\n",
       "      <td>R1.2</td>\n",
       "      <td>52</td>\n",
       "    </tr>\n",
       "    <tr>\n",
       "      <th>2</th>\n",
       "      <td>1686</td>\n",
       "      <td>11</td>\n",
       "      <td>50</td>\n",
       "      <td>29</td>\n",
       "      <td>2017-01-03</td>\n",
       "      <td>javax.net.ssl.SSLHandshakeException</td>\n",
       "      <td>OrderIssue</td>\n",
       "      <td>99</td>\n",
       "      <td>1</td>\n",
       "      <td>38</td>\n",
       "      <td>R1.0</td>\n",
       "      <td>559</td>\n",
       "    </tr>\n",
       "    <tr>\n",
       "      <th>3</th>\n",
       "      <td>1799</td>\n",
       "      <td>10</td>\n",
       "      <td>58</td>\n",
       "      <td>31</td>\n",
       "      <td>2017-01-04</td>\n",
       "      <td></td>\n",
       "      <td>InvoiceIssue</td>\n",
       "      <td>54</td>\n",
       "      <td>0</td>\n",
       "      <td>75</td>\n",
       "      <td>R2.0</td>\n",
       "      <td>117</td>\n",
       "    </tr>\n",
       "    <tr>\n",
       "      <th>4</th>\n",
       "      <td>1472</td>\n",
       "      <td>6</td>\n",
       "      <td>64</td>\n",
       "      <td>51</td>\n",
       "      <td>2017-01-05</td>\n",
       "      <td>javax.net.ssl.SSLHandshakeException</td>\n",
       "      <td>OrderIssue</td>\n",
       "      <td>52</td>\n",
       "      <td>1</td>\n",
       "      <td>20</td>\n",
       "      <td>R2.1</td>\n",
       "      <td>528</td>\n",
       "    </tr>\n",
       "  </tbody>\n",
       "</table>\n",
       "</div>"
      ],
      "text/plain": [
       "   AvgBackgroundQ  AvgThreadPoolSize  AvgWorkflowQ  CatalogSearchTime  \\\n",
       "0            1464                  8            48                 45   \n",
       "1            1673                  8            46                 40   \n",
       "2            1686                 11            50                 29   \n",
       "3            1799                 10            58                 31   \n",
       "4            1472                  6            64                 51   \n",
       "\n",
       "        Date                            Exception                    Label  \\\n",
       "0 2017-01-01  javax.net.ssl.SSLHandshakeException  DatabaseConnectionIssue   \n",
       "1 2017-01-02                                                       NoIssue   \n",
       "2 2017-01-03  javax.net.ssl.SSLHandshakeException               OrderIssue   \n",
       "3 2017-01-04                                                  InvoiceIssue   \n",
       "4 2017-01-05  javax.net.ssl.SSLHandshakeException               OrderIssue   \n",
       "\n",
       "   LogSizeVolumePercent  NetworkConnectivitySNV-US1  NodeId ProductRelease  \\\n",
       "0                    83                           0      62           R1.0   \n",
       "1                    66                           1      72           R1.2   \n",
       "2                    99                           1      38           R1.0   \n",
       "3                    54                           0      75           R2.0   \n",
       "4                    52                           1      20           R2.1   \n",
       "\n",
       "   UiNodeThreadsCount  \n",
       "0                 -66  \n",
       "1                  52  \n",
       "2                 559  \n",
       "3                 117  \n",
       "4                 528  "
      ]
     },
     "execution_count": 39,
     "metadata": {},
     "output_type": "execute_result"
    }
   ],
   "source": [
    "recordsDict= {\n",
    "    'AvgBackgroundQ' : avgBackgroundQ, 'AvgWorkflowQ' : avgWorkflowQ, 'AvgThreadPoolSize' : avgThreadPoolSize,\n",
    "    'NodeId' : nodeId, 'ProductRelease' : productRelease, 'UiNodeThreadsCount':uiNodeThreadCount , \n",
    "    'Exception' : exception, 'CatalogSearchTime' : catalogSearchTime, \n",
    "    'NetworkConnectivitySNV-US1': nwConnectivitySNV_US1, 'LogSizeVolumePercent' : logSizeVolumePercent,\n",
    "    'Label' : labels, 'Date' : record_dates\n",
    "}\n",
    "\n",
    "sample1 = pd.DataFrame(data=recordsDict)\n",
    "sample1.head()"
   ]
  },
  {
   "cell_type": "code",
   "execution_count": 40,
   "metadata": {},
   "outputs": [],
   "source": [
    "sample1.to_excel('SampleDataset2206v2.xlsx',index=False)"
   ]
  }
 ],
 "metadata": {
  "kernelspec": {
   "display_name": "Python 3",
   "language": "python",
   "name": "python3"
  },
  "language_info": {
   "codemirror_mode": {
    "name": "ipython",
    "version": 3
   },
   "file_extension": ".py",
   "mimetype": "text/x-python",
   "name": "python",
   "nbconvert_exporter": "python",
   "pygments_lexer": "ipython3",
   "version": "3.6.4"
  }
 },
 "nbformat": 4,
 "nbformat_minor": 2
}
