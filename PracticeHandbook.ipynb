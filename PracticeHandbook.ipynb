{
 "cells": [
  {
   "cell_type": "code",
   "execution_count": 1,
   "metadata": {},
   "outputs": [],
   "source": [
    "import numpy as np\n",
    "import pandas as pd"
   ]
  },
  {
   "cell_type": "markdown",
   "metadata": {},
   "source": [
    "### Numpy"
   ]
  },
  {
   "cell_type": "code",
   "execution_count": 5,
   "metadata": {},
   "outputs": [
    {
     "data": {
      "text/plain": [
       "array([ 1.,  2.,  3.,  4.,  5.,  6.,  7.,  8.,  9., 10.])"
      ]
     },
     "execution_count": 5,
     "metadata": {},
     "output_type": "execute_result"
    }
   ],
   "source": [
    "# Evenly spaced out numbers\n",
    "np.linspace(1,10,10)"
   ]
  },
  {
   "cell_type": "code",
   "execution_count": 6,
   "metadata": {},
   "outputs": [
    {
     "data": {
      "text/plain": [
       "array([[1., 0., 0.],\n",
       "       [0., 1., 0.],\n",
       "       [0., 0., 1.]])"
      ]
     },
     "execution_count": 6,
     "metadata": {},
     "output_type": "execute_result"
    }
   ],
   "source": [
    "np.eye(3)"
   ]
  },
  {
   "cell_type": "code",
   "execution_count": 7,
   "metadata": {},
   "outputs": [
    {
     "data": {
      "text/plain": [
       "array([1. , 1.3, 1.6, 1.9, 2.2, 2.5, 2.8, 3.1, 3.4, 3.7, 4. , 4.3, 4.6,\n",
       "       4.9, 5.2, 5.5, 5.8, 6.1, 6.4, 6.7, 7. , 7.3, 7.6, 7.9, 8.2, 8.5,\n",
       "       8.8, 9.1, 9.4, 9.7])"
      ]
     },
     "execution_count": 7,
     "metadata": {},
     "output_type": "execute_result"
    }
   ],
   "source": [
    "# Return evenly spaced values within a given interval.\n",
    "np.arange(1,10, 0.3)"
   ]
  },
  {
   "cell_type": "code",
   "execution_count": 11,
   "metadata": {},
   "outputs": [
    {
     "data": {
      "text/plain": [
       "array([[1., 2., 3.],\n",
       "       [4., 5., 6.]])"
      ]
     },
     "execution_count": 11,
     "metadata": {},
     "output_type": "execute_result"
    }
   ],
   "source": [
    "np.array([(1,2,3), (4,5,6)], dtype=float )"
   ]
  },
  {
   "cell_type": "code",
   "execution_count": 16,
   "metadata": {},
   "outputs": [
    {
     "data": {
      "text/plain": [
       "{0: numpy.bool_,\n",
       " 1: numpy.int8,\n",
       " 10: numpy.uint64,\n",
       " 11: numpy.float32,\n",
       " 12: numpy.float64,\n",
       " 13: numpy.float64,\n",
       " 14: numpy.complex64,\n",
       " 15: numpy.complex128,\n",
       " 16: numpy.complex128,\n",
       " 17: numpy.object_,\n",
       " 18: numpy.bytes_,\n",
       " 19: numpy.str_,\n",
       " 2: numpy.uint8,\n",
       " 20: numpy.void,\n",
       " 21: numpy.datetime64,\n",
       " 22: numpy.timedelta64,\n",
       " 23: numpy.float16,\n",
       " 3: numpy.int16,\n",
       " 4: numpy.uint16,\n",
       " 5: numpy.int32,\n",
       " 6: numpy.uint32,\n",
       " 7: numpy.int32,\n",
       " 8: numpy.uint32,\n",
       " 9: numpy.int64,\n",
       " '?': numpy.bool_,\n",
       " 'B': numpy.uint8,\n",
       " 'Bool': numpy.bool_,\n",
       " 'Bytes0': numpy.bytes_,\n",
       " 'Complex32': numpy.complex64,\n",
       " 'Complex64': numpy.complex128,\n",
       " 'D': numpy.complex128,\n",
       " 'Datetime64': numpy.datetime64,\n",
       " 'F': numpy.complex64,\n",
       " 'Float16': numpy.float16,\n",
       " 'Float32': numpy.float32,\n",
       " 'Float64': numpy.float64,\n",
       " 'G': numpy.complex128,\n",
       " 'H': numpy.uint16,\n",
       " 'I': numpy.uint32,\n",
       " 'Int16': numpy.int16,\n",
       " 'Int32': numpy.int32,\n",
       " 'Int64': numpy.int64,\n",
       " 'Int8': numpy.int8,\n",
       " 'L': numpy.uint32,\n",
       " 'M': numpy.datetime64,\n",
       " 'M8': numpy.datetime64,\n",
       " 'O': numpy.object_,\n",
       " 'Object0': numpy.object_,\n",
       " 'P': numpy.uint32,\n",
       " 'Q': numpy.uint64,\n",
       " 'S': numpy.bytes_,\n",
       " 'Str0': numpy.str_,\n",
       " 'Timedelta64': numpy.timedelta64,\n",
       " 'U': numpy.str_,\n",
       " 'UInt16': numpy.uint16,\n",
       " 'UInt32': numpy.uint32,\n",
       " 'UInt64': numpy.uint64,\n",
       " 'UInt8': numpy.uint8,\n",
       " 'V': numpy.void,\n",
       " 'Void0': numpy.void,\n",
       " 'a': numpy.bytes_,\n",
       " 'b': numpy.int8,\n",
       " 'b1': numpy.bool_,\n",
       " 'bool': numpy.bool_,\n",
       " 'bool8': numpy.bool_,\n",
       " 'bool_': numpy.bool_,\n",
       " 'byte': numpy.int8,\n",
       " 'bytes': numpy.bytes_,\n",
       " 'bytes0': numpy.bytes_,\n",
       " 'bytes_': numpy.bytes_,\n",
       " 'c16': numpy.complex128,\n",
       " 'c8': numpy.complex64,\n",
       " 'cdouble': numpy.complex128,\n",
       " 'cfloat': numpy.complex128,\n",
       " 'clongdouble': numpy.complex128,\n",
       " 'clongfloat': numpy.complex128,\n",
       " 'complex': numpy.complex128,\n",
       " 'complex128': numpy.complex128,\n",
       " 'complex64': numpy.complex64,\n",
       " 'complex_': numpy.complex128,\n",
       " 'csingle': numpy.complex64,\n",
       " 'd': numpy.float64,\n",
       " 'datetime64': numpy.datetime64,\n",
       " 'double': numpy.float64,\n",
       " 'e': numpy.float16,\n",
       " 'f': numpy.float32,\n",
       " 'f2': numpy.float16,\n",
       " 'f4': numpy.float32,\n",
       " 'f8': numpy.float64,\n",
       " 'float': numpy.float64,\n",
       " 'float16': numpy.float16,\n",
       " 'float32': numpy.float32,\n",
       " 'float64': numpy.float64,\n",
       " 'float_': numpy.float64,\n",
       " 'g': numpy.float64,\n",
       " 'h': numpy.int16,\n",
       " 'half': numpy.float16,\n",
       " 'i': numpy.int32,\n",
       " 'i1': numpy.int8,\n",
       " 'i2': numpy.int16,\n",
       " 'i4': numpy.int32,\n",
       " 'i8': numpy.int64,\n",
       " 'int': numpy.int32,\n",
       " 'int0': numpy.int32,\n",
       " 'int16': numpy.int16,\n",
       " 'int32': numpy.int32,\n",
       " 'int64': numpy.int64,\n",
       " 'int8': numpy.int8,\n",
       " 'int_': numpy.int32,\n",
       " 'intc': numpy.int32,\n",
       " 'intp': numpy.int32,\n",
       " 'l': numpy.int32,\n",
       " 'long': numpy.int32,\n",
       " 'longcomplex': numpy.complex128,\n",
       " 'longdouble': numpy.float64,\n",
       " 'longfloat': numpy.float64,\n",
       " 'longlong': numpy.int64,\n",
       " 'm': numpy.timedelta64,\n",
       " 'm8': numpy.timedelta64,\n",
       " 'object': numpy.object_,\n",
       " 'object0': numpy.object_,\n",
       " 'object_': numpy.object_,\n",
       " 'p': numpy.int32,\n",
       " 'q': numpy.int64,\n",
       " 'short': numpy.int16,\n",
       " 'single': numpy.float32,\n",
       " 'singlecomplex': numpy.complex64,\n",
       " 'str': numpy.str_,\n",
       " 'str0': numpy.str_,\n",
       " 'str_': numpy.str_,\n",
       " 'string_': numpy.bytes_,\n",
       " 'timedelta64': numpy.timedelta64,\n",
       " 'u1': numpy.uint8,\n",
       " 'u2': numpy.uint16,\n",
       " 'u4': numpy.uint32,\n",
       " 'u8': numpy.uint64,\n",
       " 'ubyte': numpy.uint8,\n",
       " 'uint': numpy.uint32,\n",
       " 'uint0': numpy.uint32,\n",
       " 'uint16': numpy.uint16,\n",
       " 'uint32': numpy.uint32,\n",
       " 'uint64': numpy.uint64,\n",
       " 'uint8': numpy.uint8,\n",
       " 'uintc': numpy.uint32,\n",
       " 'uintp': numpy.uint32,\n",
       " 'ulonglong': numpy.uint64,\n",
       " 'unicode': numpy.str_,\n",
       " 'unicode_': numpy.str_,\n",
       " 'ushort': numpy.uint16,\n",
       " 'void': numpy.void,\n",
       " 'void0': numpy.void}"
      ]
     },
     "execution_count": 16,
     "metadata": {},
     "output_type": "execute_result"
    }
   ],
   "source": [
    "# Numpy Datatypes\n",
    "np.typeDict"
   ]
  },
  {
   "cell_type": "code",
   "execution_count": 20,
   "metadata": {},
   "outputs": [],
   "source": [
    "a = np.array([1,2,3,4,])\n",
    "b = np.array([4,5,6,7])"
   ]
  },
  {
   "cell_type": "code",
   "execution_count": 22,
   "metadata": {},
   "outputs": [
    {
     "data": {
      "text/plain": [
       "array([0.25      , 0.4       , 0.5       , 0.57142857])"
      ]
     },
     "execution_count": 22,
     "metadata": {},
     "output_type": "execute_result"
    }
   ],
   "source": [
    "np.divide(a, b)"
   ]
  },
  {
   "cell_type": "code",
   "execution_count": 23,
   "metadata": {},
   "outputs": [
    {
     "data": {
      "text/plain": [
       "array([1, 2, 3, 4])"
      ]
     },
     "execution_count": 23,
     "metadata": {},
     "output_type": "execute_result"
    }
   ],
   "source": [
    "a.copy()"
   ]
  },
  {
   "cell_type": "code",
   "execution_count": 26,
   "metadata": {},
   "outputs": [
    {
     "data": {
      "text/plain": [
       "array([[1, 2, 3, 4],\n",
       "       [4, 5, 6, 7]])"
      ]
     },
     "execution_count": 26,
     "metadata": {},
     "output_type": "execute_result"
    }
   ],
   "source": [
    "c = np.array([(1,2,3,4), (4,5,6,7)])\n",
    "c"
   ]
  },
  {
   "cell_type": "code",
   "execution_count": 27,
   "metadata": {},
   "outputs": [
    {
     "data": {
      "text/plain": [
       "array([[1, 4],\n",
       "       [2, 5],\n",
       "       [3, 6],\n",
       "       [4, 7]])"
      ]
     },
     "execution_count": 27,
     "metadata": {},
     "output_type": "execute_result"
    }
   ],
   "source": [
    "c.T"
   ]
  },
  {
   "cell_type": "code",
   "execution_count": 34,
   "metadata": {},
   "outputs": [
    {
     "data": {
      "text/plain": [
       "array([[1, 2, 3, 4],\n",
       "       [4, 5, 6, 7]])"
      ]
     },
     "execution_count": 34,
     "metadata": {},
     "output_type": "execute_result"
    }
   ],
   "source": [
    "c"
   ]
  },
  {
   "cell_type": "code",
   "execution_count": 35,
   "metadata": {},
   "outputs": [
    {
     "data": {
      "text/plain": [
       "6"
      ]
     },
     "execution_count": 35,
     "metadata": {},
     "output_type": "execute_result"
    }
   ],
   "source": [
    "# Selecting Element\n",
    "c[1,2]"
   ]
  },
  {
   "cell_type": "code",
   "execution_count": 37,
   "metadata": {},
   "outputs": [
    {
     "data": {
      "text/plain": [
       "array([[4, 5, 6, 7],\n",
       "       [1, 2, 3, 4]])"
      ]
     },
     "execution_count": 37,
     "metadata": {},
     "output_type": "execute_result"
    }
   ],
   "source": [
    "# Reversed array C \n",
    "c[::-1]"
   ]
  },
  {
   "cell_type": "code",
   "execution_count": 40,
   "metadata": {},
   "outputs": [
    {
     "data": {
      "text/plain": [
       "array([1, 2, 3, 4, 4, 5, 6, 7])"
      ]
     },
     "execution_count": 40,
     "metadata": {},
     "output_type": "execute_result"
    }
   ],
   "source": [
    "# Return a flattened array.\n",
    "c.ravel()"
   ]
  },
  {
   "cell_type": "code",
   "execution_count": 41,
   "metadata": {},
   "outputs": [
    {
     "data": {
      "text/plain": [
       "array([[1, 2],\n",
       "       [3, 4],\n",
       "       [4, 5],\n",
       "       [6, 7]])"
      ]
     },
     "execution_count": 41,
     "metadata": {},
     "output_type": "execute_result"
    }
   ],
   "source": [
    "# Reshape the array\n",
    "c.reshape(4,2)"
   ]
  },
  {
   "cell_type": "code",
   "execution_count": 53,
   "metadata": {},
   "outputs": [
    {
     "name": "stdout",
     "output_type": "stream",
     "text": [
      "c = \n",
      " [[1 2 3 4]\n",
      " [4 5 6 7]]\n",
      "d = \n",
      " [[4 6 2 6]\n",
      " [8 1 7 9]]\n"
     ]
    }
   ],
   "source": [
    "d = np.array([(4,6,2,6),(8,1,7,9)])\n",
    "c = np.array([(1,2,3,4), (4,5,6,7)])\n",
    "print('c = \\n' , c)\n",
    "print('d = \\n', d)"
   ]
  },
  {
   "cell_type": "code",
   "execution_count": 54,
   "metadata": {},
   "outputs": [
    {
     "data": {
      "text/plain": [
       "array([[1, 2, 3, 4],\n",
       "       [4, 5, 6, 7],\n",
       "       [4, 6, 2, 6],\n",
       "       [8, 1, 7, 9]])"
      ]
     },
     "execution_count": 54,
     "metadata": {},
     "output_type": "execute_result"
    }
   ],
   "source": [
    "np.vstack((c,d))"
   ]
  },
  {
   "cell_type": "code",
   "execution_count": 55,
   "metadata": {},
   "outputs": [
    {
     "data": {
      "text/plain": [
       "array([[1, 2, 3, 4, 4, 6, 2, 6],\n",
       "       [4, 5, 6, 7, 8, 1, 7, 9]])"
      ]
     },
     "execution_count": 55,
     "metadata": {},
     "output_type": "execute_result"
    }
   ],
   "source": [
    "np.hstack((c,d))"
   ]
  },
  {
   "cell_type": "code",
   "execution_count": 56,
   "metadata": {},
   "outputs": [
    {
     "data": {
      "text/plain": [
       "array([[1, 2, 3, 4, 4, 6, 2, 6],\n",
       "       [4, 5, 6, 7, 8, 1, 7, 9]])"
      ]
     },
     "execution_count": 56,
     "metadata": {},
     "output_type": "execute_result"
    }
   ],
   "source": [
    "np.column_stack((c,d))"
   ]
  },
  {
   "cell_type": "code",
   "execution_count": 57,
   "metadata": {},
   "outputs": [
    {
     "data": {
      "text/plain": [
       "[array([[1, 2],\n",
       "        [4, 5]]), array([[3, 4],\n",
       "        [6, 7]])]"
      ]
     },
     "execution_count": 57,
     "metadata": {},
     "output_type": "execute_result"
    }
   ],
   "source": [
    "# Split the array horizontally at 2nd index\n",
    "np.hsplit(c,2)"
   ]
  },
  {
   "cell_type": "code",
   "execution_count": 59,
   "metadata": {},
   "outputs": [
    {
     "data": {
      "text/plain": [
       "array([1, 2, 3, 4, 4, 5, 6, 7])"
      ]
     },
     "execution_count": 59,
     "metadata": {},
     "output_type": "execute_result"
    }
   ],
   "source": [
    "c.flatten()"
   ]
  },
  {
   "cell_type": "code",
   "execution_count": 60,
   "metadata": {},
   "outputs": [
    {
     "data": {
      "text/plain": [
       "array([[0.        , 0.69314718, 1.09861229, 1.38629436],\n",
       "       [1.38629436, 1.60943791, 1.79175947, 1.94591015]])"
      ]
     },
     "execution_count": 60,
     "metadata": {},
     "output_type": "execute_result"
    }
   ],
   "source": [
    "np.log(c)"
   ]
  },
  {
   "cell_type": "code",
   "execution_count": 62,
   "metadata": {},
   "outputs": [
    {
     "data": {
      "text/plain": [
       "array([4])"
      ]
     },
     "execution_count": 62,
     "metadata": {},
     "output_type": "execute_result"
    }
   ],
   "source": [
    "# Index trick when working with two np-arrays\n",
    "a = np.array([1,2,3,6,1,4,1])\n",
    "b = np.array([5,6,7,8,3,1,2])\n",
    "\n",
    "# Only saves a at index where b == 1\n",
    "other_a = a[b == 1]\n",
    "other_a"
   ]
  },
  {
   "cell_type": "code",
   "execution_count": 63,
   "metadata": {},
   "outputs": [
    {
     "data": {
      "text/plain": [
       "array([1, 2, 3, 6, 1, 1])"
      ]
     },
     "execution_count": 63,
     "metadata": {},
     "output_type": "execute_result"
    }
   ],
   "source": [
    "#Saves every spot in a except at index where b != 1\n",
    "other_other_a = a[b != 1]\n",
    "other_other_a"
   ]
  },
  {
   "cell_type": "code",
   "execution_count": 68,
   "metadata": {},
   "outputs": [
    {
     "data": {
      "text/plain": [
       "array([6, 8, 6, 9])"
      ]
     },
     "execution_count": 68,
     "metadata": {},
     "output_type": "execute_result"
    }
   ],
   "source": [
    "x = np.array([4,6,8,1,2,6,9])\n",
    "x[x > 5]"
   ]
  },
  {
   "cell_type": "code",
   "execution_count": null,
   "metadata": {},
   "outputs": [],
   "source": []
  }
 ],
 "metadata": {
  "kernelspec": {
   "display_name": "Python 3",
   "language": "python",
   "name": "python3"
  },
  "language_info": {
   "codemirror_mode": {
    "name": "ipython",
    "version": 3
   },
   "file_extension": ".py",
   "mimetype": "text/x-python",
   "name": "python",
   "nbconvert_exporter": "python",
   "pygments_lexer": "ipython3",
   "version": "3.6.4"
  }
 },
 "nbformat": 4,
 "nbformat_minor": 2
}
