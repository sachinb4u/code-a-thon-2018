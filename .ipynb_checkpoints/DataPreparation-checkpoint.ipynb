{
 "cells": [
  {
   "cell_type": "markdown",
   "metadata": {},
   "source": [
    "# Prepare synthetic data for simulating health information in normal and abnormal behavior"
   ]
  },
  {
   "cell_type": "code",
   "execution_count": 2,
   "metadata": {},
   "outputs": [],
   "source": [
    "import numpy as np\n",
    "import pandas as pd\n",
    "\n"
   ]
  },
  {
   "cell_type": "code",
   "execution_count": 6,
   "metadata": {},
   "outputs": [
    {
     "data": {
      "text/plain": [
       "array([0.57015923, 0.10170012, 0.02850055, 0.41885946, 0.25118119,\n",
       "       0.75813526, 0.84493778, 0.58366218, 0.5784225 , 0.27548353])"
      ]
     },
     "execution_count": 6,
     "metadata": {},
     "output_type": "execute_result"
    }
   ],
   "source": [
    "np.random.random(10)"
   ]
  },
  {
   "cell_type": "code",
   "execution_count": 15,
   "metadata": {},
   "outputs": [
    {
     "data": {
      "text/plain": [
       "array([0.74608613, 0.61328048, 0.47134625, 0.45642199, 0.58814925,\n",
       "       0.60996486, 0.6254608 , 0.75761374, 0.63942991, 0.67245687,\n",
       "       0.60481077, 0.45871891, 0.52524488, 0.67226123, 0.48176832,\n",
       "       0.88059391, 0.63605802, 0.43494213, 0.53818644, 0.63729601,\n",
       "       0.68477795, 0.76693021, 0.62884429, 0.7803776 , 0.35848252,\n",
       "       0.4620571 , 0.71977342, 0.59256015, 0.52671718, 0.67835766,\n",
       "       0.59042869, 0.6631085 , 0.52510669, 0.41183318, 0.44122115,\n",
       "       0.52401033, 0.55385902, 0.64816212, 0.50394563, 0.58775638,\n",
       "       0.63403495, 0.5423192 , 0.53696564, 0.74394841, 0.42373544,\n",
       "       0.78939931, 0.75162733, 0.75063995, 0.75921421, 0.72307913,\n",
       "       0.6272151 , 0.62296942, 0.5110898 , 0.76212785, 0.54947765,\n",
       "       0.47272529, 0.58220475, 0.61472702, 0.55871725, 0.59883831,\n",
       "       0.49442481, 0.65411189, 0.36762686, 0.52997809, 0.55649556,\n",
       "       0.64228476, 0.57690734, 0.70615407, 0.63307093, 0.48046967,\n",
       "       0.54584493, 0.85919465, 0.51768497, 0.47670126, 0.46826651,\n",
       "       0.52397484, 0.6706601 , 0.46222725, 0.61418914, 0.60056686,\n",
       "       0.70677124, 0.42560644, 0.77823382, 0.53987923, 0.5541178 ,\n",
       "       0.41705373, 0.60093107, 0.58325307, 0.53742517, 0.64189067,\n",
       "       0.59610487, 0.47267832, 0.5768068 , 0.55227779, 0.57330878,\n",
       "       0.62651618, 0.54167529, 0.56630545, 0.66640018, 0.47264938])"
      ]
     },
     "execution_count": 15,
     "metadata": {},
     "output_type": "execute_result"
    }
   ],
   "source": [
    "normal_cpu_utilization = np.random.normal(0.6,0.1, 100)\n",
    "normal_cpu_utilization"
   ]
  },
  {
   "cell_type": "code",
   "execution_count": 33,
   "metadata": {},
   "outputs": [
    {
     "data": {
      "text/plain": [
       "array([0.83689047, 0.83068332, 0.9211933 , 0.8073673 , 1.06606957,\n",
       "       0.88692992, 0.99938609, 0.81085547, 0.93702294, 1.0131971 ])"
      ]
     },
     "execution_count": 33,
     "metadata": {},
     "output_type": "execute_result"
    }
   ],
   "source": [
    "abnormal_cpu_utilization = np.random.normal(0.9,0.1, 10)\n",
    "abnormal_cpu_utilization"
   ]
  },
  {
   "cell_type": "code",
   "execution_count": 34,
   "metadata": {},
   "outputs": [
    {
     "data": {
      "text/plain": [
       "array([0.44979962, 0.51402953, 0.49043457, 0.50421365, 0.32050392,\n",
       "       0.33159533, 0.37870252, 0.52416452, 0.45281005, 0.5499191 ,\n",
       "       0.42956645, 0.33274741, 0.40595183, 0.50360685, 0.34900154,\n",
       "       0.40315076, 0.27277893, 0.46359283, 0.39693695, 0.41397184,\n",
       "       0.478709  , 0.36992835, 0.45494263, 0.54199893, 0.31536919,\n",
       "       0.31379237, 0.36827744, 0.56202218, 0.58810806, 0.38392183,\n",
       "       0.4015993 , 0.32882844, 0.4266436 , 0.38680182, 0.4362581 ,\n",
       "       0.42386112, 0.29153041, 0.30619254, 0.51641274, 0.33907492,\n",
       "       0.42909544, 0.30943907, 0.51884445, 0.40373629, 0.33301944,\n",
       "       0.37581883, 0.38069001, 0.36094337, 0.51732491, 0.41872737,\n",
       "       0.19679372, 0.55133484, 0.56048131, 0.32518896, 0.52713939,\n",
       "       0.45929969, 0.51680035, 0.4555213 , 0.27159412, 0.4895907 ,\n",
       "       0.40792664, 0.29073133, 0.38831303, 0.3492978 , 0.42661627,\n",
       "       0.39370799, 0.64601588, 0.39026121, 0.3789053 , 0.30487689,\n",
       "       0.3579661 , 0.41273351, 0.47451203, 0.40801453, 0.45780443,\n",
       "       0.46934119, 0.4774697 , 0.2578698 , 0.33744942, 0.35827244,\n",
       "       0.31780735, 0.33558302, 0.50471388, 0.48934602, 0.47868915,\n",
       "       0.55038455, 0.39691661, 0.31518812, 0.34470241, 0.46561557,\n",
       "       0.30009085, 0.31455639, 0.57277428, 0.41965512, 0.25188505,\n",
       "       0.38540154, 0.46452135, 0.39728122, 0.18356521, 0.42149274])"
      ]
     },
     "execution_count": 34,
     "metadata": {},
     "output_type": "execute_result"
    }
   ],
   "source": [
    "normal_free_heap_percent = np.random.normal(0.4,0.1, 100)\n",
    "normal_free_heap_percent"
   ]
  },
  {
   "cell_type": "code",
   "execution_count": 41,
   "metadata": {},
   "outputs": [
    {
     "data": {
      "text/plain": [
       "array([0.18620102, 0.2725886 , 0.23441612, 0.18476016, 0.12321338,\n",
       "       0.09700373, 0.2854953 , 0.26125374, 0.1593128 , 0.26393336])"
      ]
     },
     "execution_count": 41,
     "metadata": {},
     "output_type": "execute_result"
    }
   ],
   "source": [
    "abnormal_free_heap_percent = np.random.normal(0.2,0.1, 10)\n",
    "abnormal_free_heap_percent"
   ]
  },
  {
   "cell_type": "code",
   "execution_count": 44,
   "metadata": {},
   "outputs": [
    {
     "data": {
      "text/plain": [
       "array([0.62275998, 0.44263528, 0.10465081, 0.66518715, 0.40840601,\n",
       "       0.55560831, 0.35524689, 0.48026639, 0.12675884, 0.51121038,\n",
       "       0.42700207, 0.53467945, 0.36177377, 0.54757668, 1.21795787,\n",
       "       0.26947454, 0.60767758, 0.04336273, 0.66197337, 0.27724494,\n",
       "       0.48369331, 0.67796611, 0.30538873, 0.35107133, 0.44591945,\n",
       "       0.62907299, 0.5273655 , 0.53476515, 0.35677843, 0.44817381,\n",
       "       0.53287557, 0.61837052, 0.53433471, 0.26070703, 0.59385563,\n",
       "       0.69469337, 0.50575727, 0.31477519, 0.58848937, 0.57254937,\n",
       "       0.51970079, 0.45025168, 0.70809022, 0.78413822, 0.43327425,\n",
       "       0.44396886, 0.55283579, 0.33479624, 0.41471597, 0.519919  ,\n",
       "       0.64151749, 0.48742024, 0.62004973, 0.42078069, 0.13567532,\n",
       "       0.34129042, 0.53404232, 0.33606787, 0.36367822, 0.88690926,\n",
       "       0.63559294, 0.479609  , 0.48858259, 0.36413076, 0.71246907,\n",
       "       0.45690275, 0.51564686, 0.78031268, 0.51455675, 0.34702503,\n",
       "       0.66024367, 0.58861549, 0.31299441, 0.9023213 , 0.39127665,\n",
       "       0.37666558, 0.36273489, 0.57607281, 0.66246589, 0.56716591,\n",
       "       0.6425027 , 0.97196925, 0.18819847, 0.01127504, 0.49498396,\n",
       "       0.48144835, 0.57232492, 0.26589725, 0.53086188, 0.32236881,\n",
       "       0.57649443, 0.13192148, 0.49743988, 0.63739039, 0.40681748,\n",
       "       0.82966194, 0.198469  , 0.49933562, 0.43159638, 0.5903095 ])"
      ]
     },
     "execution_count": 44,
     "metadata": {},
     "output_type": "execute_result"
    }
   ],
   "source": [
    "normal_jvm_old_generation_used = np.random.normal(0.5,0.2, 100)\n",
    "normal_jvm_old_generation_used"
   ]
  },
  {
   "cell_type": "code",
   "execution_count": 46,
   "metadata": {},
   "outputs": [
    {
     "data": {
      "text/plain": [
       "array([0.90971067, 0.78955253, 0.77234831, 0.62148081, 0.79275861,\n",
       "       0.85059802, 0.73332574, 0.80653378, 0.78204628, 0.62008756,\n",
       "       0.75134185, 0.7317801 , 0.69816854, 0.68733534, 0.75926145,\n",
       "       0.7524202 , 0.881659  , 0.92780497, 0.80886456, 0.65955009,\n",
       "       0.81310828, 0.84109436, 0.66810221, 0.75209885, 0.80050523,\n",
       "       0.98341088, 0.92342829, 0.8728285 , 0.88157569, 0.79294   ,\n",
       "       0.7691376 , 0.73071646, 0.93180049, 0.80153028, 0.9489664 ,\n",
       "       0.79513248, 0.73542742, 0.66898199, 0.81518257, 0.78499348,\n",
       "       0.94396229, 0.84641461, 0.90982353, 0.87469912, 0.83454413,\n",
       "       0.98728513, 0.72644862, 0.81302613, 0.82858528, 0.70661815,\n",
       "       0.81040372, 0.77635365, 0.8708348 , 0.77621324, 0.75718953,\n",
       "       0.92891924, 0.82576809, 0.7548602 , 0.63431406, 0.8767939 ,\n",
       "       0.78617121, 0.73709585, 0.87248743, 0.6616581 , 0.7661189 ,\n",
       "       0.82094304, 0.89077075, 0.7852837 , 0.64688399, 0.75195997,\n",
       "       0.97569572, 0.68148424, 0.79578919, 0.84638921, 0.84090243,\n",
       "       0.71473726, 0.72662049, 0.78748225, 0.98097314, 0.61956593,\n",
       "       0.90766201, 0.7976881 , 0.68349446, 0.64957756, 0.87093402,\n",
       "       0.76297129, 0.80552753, 0.90049429, 0.92099827, 0.99676067,\n",
       "       0.80317375, 0.83853558, 0.72274977, 0.90479091, 0.81229525,\n",
       "       0.68505556, 0.9894138 , 0.90444717, 0.71855522, 0.72965153])"
      ]
     },
     "execution_count": 46,
     "metadata": {},
     "output_type": "execute_result"
    }
   ],
   "source": [
    "abnormal_jvm_old_generation_used = np.random.normal(0.8,0.1, 100)\n",
    "abnormal_jvm_old_generation_used"
   ]
  },
  {
   "cell_type": "markdown",
   "metadata": {},
   "source": [
    "## Features Identified\n",
    "\n",
    "feature 1: avgbackground queue, (1500) [tasknode] <br>\n",
    "feature 2: avg workflow queue, (55) [tasknode]<br>\n",
    "feature 3: avg node manager thread pool size, (5.57) [tasknode] [feature 1,2,3 are related]<br>\n",
    " <br>\n",
    "feature 4 : node id (need to revisit) [can we put node id as feature so that we can backtrack it later ???]<br>\n",
    "feature 5: index=mail, failed post output=ssl ctx set options [source : splunk search] ( 0 normal, 5000+ abnormal)<br>\n",
    "feature 6: product release (value 0,1)<br>\n",
    "feature 7: ui node thread count (normal 250, abnormal 500+) (ims990)<br>\n",
    "feature 8: ariba.ui.aribaweb.util.AWGenericException: java.lang.IllegalStateException: splunk search linked with feature 7<br>\n",
    "feature 9: scheduletaskstatustab query arches batch publishinselectedrealm job exception <br>\n",
    "<br>\n",
    "feature 10: catalogue search time.(38) linked with 1,2,3 feature<br>\n",
    "feature 11: no network connectivity between SNV and US1 - ims-983<br>\n",
    "feature 12: 4310024, \"Failed to get JDBC connection permit ims-980 (normal 0-100, abnormal 100-1000)<br>\n",
    "feature 13: node status fair to critical its-980 (linked with feature 12)<br>\n",
    "feature 14: cloud health index down more than N time in X minutes<br>\n",
    "<br>\n",
    "Feature 15: JVM Heap size getting filled & garbage collector not able to clean the data & frequently garbage collector is running<br>\n",
    "Feature 16: log size getting filled drastically 10%->100% in an hour<br>\n",
    "Feature 17: GT node restarting [Need more data]<br>\n",
    "</p>"
   ]
  },
  {
   "cell_type": "code",
   "execution_count": 1,
   "metadata": {},
   "outputs": [],
   "source": [
    "columns = ['AvgBackgroundQ', 'AvgWorkflowQ', 'AvgThreadPoolSize_NodeMgr', 'NodeId', 'FailedPostOutput', 'ProductRelease',\n",
    "          'UiNodeThreadsCount', 'Exception', 'CatalogSearchTime', 'NetworkConnectivity', \n",
    "           'LogSizeVolumePercent', 'TimeSinceSystemIsUp']"
   ]
  },
  {
   "cell_type": "code",
   "execution_count": 4,
   "metadata": {},
   "outputs": [],
   "source": [
    "df = pd.DataFrame(data=None,columns=columns)"
   ]
  },
  {
   "cell_type": "code",
   "execution_count": 6,
   "metadata": {},
   "outputs": [],
   "source": [
    "df.to_excel('SampleDataset.xlsx',index=False)"
   ]
  },
  {
   "cell_type": "code",
   "execution_count": null,
   "metadata": {},
   "outputs": [],
   "source": []
  }
 ],
 "metadata": {
  "kernelspec": {
   "display_name": "Python 3",
   "language": "python",
   "name": "python3"
  },
  "language_info": {
   "codemirror_mode": {
    "name": "ipython",
    "version": 3
   },
   "file_extension": ".py",
   "mimetype": "text/x-python",
   "name": "python",
   "nbconvert_exporter": "python",
   "pygments_lexer": "ipython3",
   "version": "3.6.4"
  }
 },
 "nbformat": 4,
 "nbformat_minor": 2
}
