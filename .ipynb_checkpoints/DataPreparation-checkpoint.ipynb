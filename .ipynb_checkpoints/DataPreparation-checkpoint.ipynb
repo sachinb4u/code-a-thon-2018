{
 "cells": [
  {
   "cell_type": "markdown",
   "metadata": {},
   "source": [
    "# Prepare synthetic data for simulating health information in normal and abnormal behavior"
   ]
  },
  {
   "cell_type": "code",
   "execution_count": 1,
   "metadata": {},
   "outputs": [],
   "source": [
    "import numpy as np\n",
    "import pandas as pd\n",
    "import matplotlib.pyplot as plt"
   ]
  },
  {
   "cell_type": "code",
   "execution_count": 2,
   "metadata": {},
   "outputs": [],
   "source": [
    "normal_cpu_utilization = np.random.normal(0.6,0.1, 100)\n",
    "abnormal_cpu_utilization = np.random.normal(0.9,0.1, 10)\n",
    "normal_free_heap_percent = np.random.normal(0.4,0.1, 100)\n",
    "normal_jvm_old_generation_used = np.random.normal(0.5,0.2, 100)\n",
    "# normal_cpu_utilization"
   ]
  },
  {
   "cell_type": "markdown",
   "metadata": {},
   "source": [
    "## Features Identified\n",
    "\n",
    "feature 1: avgbackground queue, (1500) [tasknode] <br>\n",
    "feature 2: avg workflow queue, (55) [tasknode]<br>\n",
    "feature 3: avg node manager thread pool size, (5.57) [tasknode] [feature 1,2,3 are related]<br>\n",
    " <br>\n",
    "feature 4 : node id (need to revisit) [can we put node id as feature so that we can backtrack it later ???]<br>\n",
    "feature 5: index=mail, failed post output=ssl ctx set options [source : splunk search] ( 0 normal, 5000+ abnormal)<br>\n",
    "feature 6: product release (value 0,1)<br>\n",
    "feature 7: ui node thread count (normal 250, abnormal 500+) (ims990)<br>\n",
    "feature 8: ariba.ui.aribaweb.util.AWGenericException: java.lang.IllegalStateException: splunk search linked with feature 7<br>\n",
    "feature 9: scheduletaskstatustab query arches batch publishinselectedrealm job exception <br>\n",
    "<br>\n",
    "feature 10: catalogue search time.(38) linked with 1,2,3 feature<br>\n",
    "feature 11: no network connectivity between SNV and US1 - ims-983<br>\n",
    "feature 12: 4310024, \"Failed to get JDBC connection permit ims-980 (normal 0-100, abnormal 100-1000)<br>\n",
    "feature 13: node status fair to critical its-980 (linked with feature 12)<br>\n",
    "feature 14: cloud health index down more than N time in X minutes<br>\n",
    "<br>\n",
    "Feature 15: JVM Heap size getting filled & garbage collector not able to clean the data & frequently garbage collector is running<br>\n",
    "Feature 16: log size getting filled drastically 10%->100% in an hour<br>\n",
    "Feature 17: GT node restarting [Need more data]<br>\n",
    "</p>\n",
    "\n",
    "RecordDate  - Record date and time <br>"
   ]
  },
  {
   "cell_type": "code",
   "execution_count": 3,
   "metadata": {},
   "outputs": [
    {
     "name": "stdout",
     "output_type": "stream",
     "text": [
      "Dataset columns \n",
      " ['RecordDate', 'AvgBackgroundQ', 'AvgThreadPoolSize', 'AvgWorkflowQ', 'CatalogSearchTime', 'Exception', 'LogSizeVolumePercent', 'NetworkConnectivitySNV-US1', 'NodeId', 'IsProductReleased', 'UiNodeThreadsCount', 'CloudHealthIndex', 'Label']\n"
     ]
    }
   ],
   "source": [
    "columns = ['RecordDate','AvgBackgroundQ', 'AvgThreadPoolSize', 'AvgWorkflowQ', 'CatalogSearchTime', \n",
    "           'Exception', 'LogSizeVolumePercent', 'NetworkConnectivitySNV-US1',  'NodeId', 'IsProductReleased',\n",
    "          'UiNodeThreadsCount','CloudHealthIndex', 'Label'  \n",
    "          ]\n",
    "\n",
    "print('Dataset columns \\n' , columns)"
   ]
  },
  {
   "cell_type": "code",
   "execution_count": 4,
   "metadata": {},
   "outputs": [],
   "source": [
    "recordsCount = 10000"
   ]
  },
  {
   "cell_type": "code",
   "execution_count": 5,
   "metadata": {},
   "outputs": [
    {
     "name": "stdout",
     "output_type": "stream",
     "text": [
      "avgBackgroundQ =  [ 164  231  159 ...  968 1060  956]\n",
      "avgWorkflowQ =  [18  5 41 ... 34 27 26]\n",
      "avgThreadPoolSize =  [10 13 11 ... 12  9  7]\n",
      "nodeId =  [76 65 66 ... 64 71 62]\n",
      "isProductReleased =  [1 1 0 ... 1 1 1]\n",
      "uiNodeThreadCount =  [  1 567 322 ... 286 339  14]\n",
      "cloudHealthIndex =  ['FAIR' 'CRITICAL' 'GOOD' ... 'FAIR' 'CRITICAL' 'CRITICAL']\n",
      "exception =  ['spanning tree event' 'javax.net.ssl.SSLHandshakeException'\n",
      " 'OutOfMemoryException, GT Nodes restarting]' ...\n",
      " 'AWGenericException: java.lang.IllegalStateException'\n",
      " 'JDBC-connection-permit-failure' 'java.lang.OutOfMemoryException']\n",
      "catalogSearchTime =  [ 9  5 14 ... 23 21 23]\n",
      "nwConnectivitySNV_US1 =  [1 1 1 ... 0 0 0]\n",
      "logSizeVolumePercent =  [0.232 0.326 0.89  ... 0.864 0.813 0.675]\n",
      "record_dates =\n",
      " DatetimeIndex(['2017-01-01 00:00:00', '2017-01-01 00:30:00',\n",
      "               '2017-01-01 01:00:00', '2017-01-01 01:30:00',\n",
      "               '2017-01-01 02:00:00', '2017-01-01 02:30:00',\n",
      "               '2017-01-01 03:00:00', '2017-01-01 03:30:00',\n",
      "               '2017-01-01 04:00:00', '2017-01-01 04:30:00',\n",
      "               ...\n",
      "               '2017-07-28 03:00:00', '2017-07-28 03:30:00',\n",
      "               '2017-07-28 04:00:00', '2017-07-28 04:30:00',\n",
      "               '2017-07-28 05:00:00', '2017-07-28 05:30:00',\n",
      "               '2017-07-28 06:00:00', '2017-07-28 06:30:00',\n",
      "               '2017-07-28 07:00:00', '2017-07-28 07:30:00'],\n",
      "              dtype='datetime64[ns]', length=10000, freq='30T')\n"
     ]
    }
   ],
   "source": [
    "# Average BackgroudQ value is around 100-300 for normal & 1000+ abnormally\n",
    "avgBackgroundQ = np.round(np.random.normal(200, 100, recordsCount-100)).astype(int)\n",
    "\n",
    "# add abnormal values\n",
    "avgBackgroundQ = np.append(avgBackgroundQ, np.round(np.random.normal(1000, 100, 100)).astype(int))\n",
    "\n",
    "\n",
    "#Average WorkflowQ value is around 10-40\n",
    "avgWorkflowQ = np.round(np.random.normal(20, 10, recordsCount)).astype(int)\n",
    "\n",
    "#Average ThreadPoolSize would be around 8-20\n",
    "avgThreadPoolSize = np.round(np.random.normal(8, 4, recordsCount)).astype(int)\n",
    "\n",
    "# Most of the records don't have ID -1 represents no nodeid\n",
    "nodeId = np.random.choice(np.append(np.arange(60,80), [-999]),recordsCount)\n",
    "\n",
    "# Indicates if product is released\n",
    "isProductReleased = np.random.choice([0,1], recordsCount)\n",
    "\n",
    "# UI health index data \n",
    "uiNodeThreadCount = np.round(np.random.normal(250, 200, recordsCount)).astype(int)\n",
    "\n",
    "# CloudHealthIndex\n",
    "cloudHealthValues = ['FAIR', 'GOOD', 'CRITICAL']\n",
    "cloudHealthIndex = np.random.choice(cloudHealthValues, recordsCount)\n",
    "\n",
    "# Exception occurred\n",
    "exception = np.random.choice(['AWGenericException: java.lang.IllegalStateException','java.lang.OutOfMemoryException',\n",
    "                              'NA', 'javax.net.ssl.SSLHandshakeException', 'spanning tree event',\n",
    "                              'JDBC-connection-permit-failure', 'OutOfMemoryException, GT Nodes restarting]'], recordsCount)\n",
    "\n",
    "# Catelog search time\n",
    "catalogSearchTime = np.round(np.random.normal(20, 10, recordsCount)).astype(int)\n",
    "\n",
    "# Network Connectivity broken ?\n",
    "nwConnectivitySNV_US1 = np.random.choice([0,1], recordsCount)\n",
    "\n",
    "# LogSize Volume Percent 0-1 . \n",
    "logSizeVolumePercent = np.round(np.random.random(recordsCount),decimals=3)\n",
    "#np.random.randint(50,100,recordsCount)\n",
    "\n",
    "# Record dates for every 30min from 1 Jan 2017, taking only given number of records\n",
    "record_dates = pd.date_range(pd.to_datetime('01-01-2017', format='%d-%m-%Y'), \n",
    "                                  pd.to_datetime('31-12-2017', format='%d-%m-%Y'), freq='30min')[:recordsCount]\n",
    "\n",
    "\n",
    "print('avgBackgroundQ = ', avgBackgroundQ)\n",
    "print('avgWorkflowQ = ', avgWorkflowQ)\n",
    "print('avgThreadPoolSize = ', avgThreadPoolSize)\n",
    "print('nodeId = ', nodeId)\n",
    "print('isProductReleased = ', isProductReleased)\n",
    "print('uiNodeThreadCount = ', uiNodeThreadCount)\n",
    "print('cloudHealthIndex = ', cloudHealthIndex)\n",
    "print('exception = ', exception)\n",
    "print('catalogSearchTime = ', catalogSearchTime)\n",
    "print('nwConnectivitySNV_US1 = ', nwConnectivitySNV_US1)\n",
    "print('logSizeVolumePercent = ', logSizeVolumePercent)\n",
    "print('record_dates =\\n', record_dates)\n"
   ]
  },
  {
   "cell_type": "code",
   "execution_count": 6,
   "metadata": {},
   "outputs": [
    {
     "name": "stdout",
     "output_type": "stream",
     "text": [
      "labels =  ['NetworkIssue' 'NetworkIssue' 'OrderIssue' ... 'DBConnectionIssue'\n",
      " 'NoIssue' 'NetworkIssue']\n"
     ]
    }
   ],
   "source": [
    "# There are fixed Issue category\n",
    "\n",
    "incidentTypes = ['NoIssue', 'DBConnectionIssue', 'InvoiceIssue', 'OrderIssue', 'CommunityIssue',\n",
    "                 'WorkspaceIssue' , 'NetworkIssue', 'CommunityHealthIssue' ]\n",
    "\n",
    "labels = np.random.choice(incidentTypes, recordsCount)\n",
    "print('labels = ', +labels)\n"
   ]
  },
  {
   "cell_type": "code",
   "execution_count": 7,
   "metadata": {},
   "outputs": [
    {
     "data": {
      "text/html": [
       "<div>\n",
       "<style scoped>\n",
       "    .dataframe tbody tr th:only-of-type {\n",
       "        vertical-align: middle;\n",
       "    }\n",
       "\n",
       "    .dataframe tbody tr th {\n",
       "        vertical-align: top;\n",
       "    }\n",
       "\n",
       "    .dataframe thead th {\n",
       "        text-align: right;\n",
       "    }\n",
       "</style>\n",
       "<table border=\"1\" class=\"dataframe\">\n",
       "  <thead>\n",
       "    <tr style=\"text-align: right;\">\n",
       "      <th></th>\n",
       "      <th>AvgBackgroundQ</th>\n",
       "      <th>AvgWorkflowQ</th>\n",
       "      <th>AvgThreadPoolSize</th>\n",
       "      <th>NodeId</th>\n",
       "      <th>IsProductReleased</th>\n",
       "      <th>UiNodeThreadsCount</th>\n",
       "      <th>CatalogSearchTime</th>\n",
       "      <th>NetworkConnectivitySNV-US1</th>\n",
       "      <th>LogSizeVolumePercent</th>\n",
       "      <th>Label</th>\n",
       "      <th>Date</th>\n",
       "      <th>CloudHealthIndex</th>\n",
       "    </tr>\n",
       "  </thead>\n",
       "  <tbody>\n",
       "    <tr>\n",
       "      <th>0</th>\n",
       "      <td>164</td>\n",
       "      <td>18</td>\n",
       "      <td>10</td>\n",
       "      <td>76</td>\n",
       "      <td>1</td>\n",
       "      <td>1</td>\n",
       "      <td>9</td>\n",
       "      <td>1</td>\n",
       "      <td>0.232</td>\n",
       "      <td>NetworkIssue</td>\n",
       "      <td>2017-01-01 00:00:00</td>\n",
       "      <td>FAIR</td>\n",
       "    </tr>\n",
       "    <tr>\n",
       "      <th>1</th>\n",
       "      <td>231</td>\n",
       "      <td>5</td>\n",
       "      <td>13</td>\n",
       "      <td>65</td>\n",
       "      <td>1</td>\n",
       "      <td>567</td>\n",
       "      <td>5</td>\n",
       "      <td>1</td>\n",
       "      <td>0.326</td>\n",
       "      <td>NetworkIssue</td>\n",
       "      <td>2017-01-01 00:30:00</td>\n",
       "      <td>CRITICAL</td>\n",
       "    </tr>\n",
       "    <tr>\n",
       "      <th>2</th>\n",
       "      <td>159</td>\n",
       "      <td>41</td>\n",
       "      <td>11</td>\n",
       "      <td>66</td>\n",
       "      <td>0</td>\n",
       "      <td>322</td>\n",
       "      <td>14</td>\n",
       "      <td>1</td>\n",
       "      <td>0.890</td>\n",
       "      <td>OrderIssue</td>\n",
       "      <td>2017-01-01 01:00:00</td>\n",
       "      <td>GOOD</td>\n",
       "    </tr>\n",
       "    <tr>\n",
       "      <th>3</th>\n",
       "      <td>323</td>\n",
       "      <td>31</td>\n",
       "      <td>13</td>\n",
       "      <td>61</td>\n",
       "      <td>1</td>\n",
       "      <td>318</td>\n",
       "      <td>16</td>\n",
       "      <td>1</td>\n",
       "      <td>0.353</td>\n",
       "      <td>InvoiceIssue</td>\n",
       "      <td>2017-01-01 01:30:00</td>\n",
       "      <td>CRITICAL</td>\n",
       "    </tr>\n",
       "    <tr>\n",
       "      <th>4</th>\n",
       "      <td>289</td>\n",
       "      <td>13</td>\n",
       "      <td>10</td>\n",
       "      <td>76</td>\n",
       "      <td>1</td>\n",
       "      <td>-156</td>\n",
       "      <td>36</td>\n",
       "      <td>1</td>\n",
       "      <td>0.748</td>\n",
       "      <td>WorkspaceIssue</td>\n",
       "      <td>2017-01-01 02:00:00</td>\n",
       "      <td>CRITICAL</td>\n",
       "    </tr>\n",
       "  </tbody>\n",
       "</table>\n",
       "</div>"
      ],
      "text/plain": [
       "   AvgBackgroundQ  AvgWorkflowQ  AvgThreadPoolSize  NodeId  IsProductReleased  \\\n",
       "0             164            18                 10      76                  1   \n",
       "1             231             5                 13      65                  1   \n",
       "2             159            41                 11      66                  0   \n",
       "3             323            31                 13      61                  1   \n",
       "4             289            13                 10      76                  1   \n",
       "\n",
       "   UiNodeThreadsCount  CatalogSearchTime  NetworkConnectivitySNV-US1  \\\n",
       "0                   1                  9                           1   \n",
       "1                 567                  5                           1   \n",
       "2                 322                 14                           1   \n",
       "3                 318                 16                           1   \n",
       "4                -156                 36                           1   \n",
       "\n",
       "   LogSizeVolumePercent           Label                Date CloudHealthIndex  \n",
       "0                 0.232    NetworkIssue 2017-01-01 00:00:00             FAIR  \n",
       "1                 0.326    NetworkIssue 2017-01-01 00:30:00         CRITICAL  \n",
       "2                 0.890      OrderIssue 2017-01-01 01:00:00             GOOD  \n",
       "3                 0.353    InvoiceIssue 2017-01-01 01:30:00         CRITICAL  \n",
       "4                 0.748  WorkspaceIssue 2017-01-01 02:00:00         CRITICAL  "
      ]
     },
     "execution_count": 7,
     "metadata": {},
     "output_type": "execute_result"
    }
   ],
   "source": [
    "recordsDict= {\n",
    "    'AvgBackgroundQ' : avgBackgroundQ, 'AvgWorkflowQ' : avgWorkflowQ, 'AvgThreadPoolSize' : avgThreadPoolSize,\n",
    "    'NodeId' : nodeId, 'IsProductReleased' : isProductReleased, 'UiNodeThreadsCount':uiNodeThreadCount , \n",
    "     'CatalogSearchTime' : catalogSearchTime, \n",
    "    'NetworkConnectivitySNV-US1': nwConnectivitySNV_US1, 'LogSizeVolumePercent' : logSizeVolumePercent,\n",
    "    'Label' : labels, 'Date' : record_dates, 'CloudHealthIndex' : cloudHealthIndex\n",
    "}\n",
    "# 'Exception' : exception, is removed for now\n",
    "\n",
    "sample1 = pd.DataFrame(data=recordsDict)\n",
    "sample1.head()"
   ]
  },
  {
   "cell_type": "code",
   "execution_count": 8,
   "metadata": {},
   "outputs": [],
   "source": [
    "sample1.to_excel('SystemLogsDataset-temp.xlsx',index=False)"
   ]
  },
  {
   "cell_type": "markdown",
   "metadata": {},
   "source": [
    "## SystemLogsDataset is created\n",
    "#### Now we will train the model"
   ]
  },
  {
   "cell_type": "markdown",
   "metadata": {},
   "source": [
    "### Feature Generation & Normalization"
   ]
  },
  {
   "cell_type": "code",
   "execution_count": 9,
   "metadata": {},
   "outputs": [
    {
     "name": "stderr",
     "output_type": "stream",
     "text": [
      "c:\\softwares\\python\\python36-32\\lib\\site-packages\\ipykernel_launcher.py:6: SettingWithCopyWarning: \n",
      "A value is trying to be set on a copy of a slice from a DataFrame\n",
      "\n",
      "See the caveats in the documentation: http://pandas.pydata.org/pandas-docs/stable/indexing.html#indexing-view-versus-copy\n",
      "  \n",
      "c:\\softwares\\python\\python36-32\\lib\\site-packages\\ipykernel_launcher.py:7: SettingWithCopyWarning: \n",
      "A value is trying to be set on a copy of a slice from a DataFrame\n",
      "\n",
      "See the caveats in the documentation: http://pandas.pydata.org/pandas-docs/stable/indexing.html#indexing-view-versus-copy\n",
      "  import sys\n",
      "c:\\softwares\\python\\python36-32\\lib\\site-packages\\ipykernel_launcher.py:8: SettingWithCopyWarning: \n",
      "A value is trying to be set on a copy of a slice from a DataFrame\n",
      "\n",
      "See the caveats in the documentation: http://pandas.pydata.org/pandas-docs/stable/indexing.html#indexing-view-versus-copy\n",
      "  \n",
      "c:\\softwares\\python\\python36-32\\lib\\site-packages\\ipykernel_launcher.py:9: SettingWithCopyWarning: \n",
      "A value is trying to be set on a copy of a slice from a DataFrame\n",
      "\n",
      "See the caveats in the documentation: http://pandas.pydata.org/pandas-docs/stable/indexing.html#indexing-view-versus-copy\n",
      "  if __name__ == '__main__':\n",
      "c:\\softwares\\python\\python36-32\\lib\\site-packages\\ipykernel_launcher.py:10: SettingWithCopyWarning: \n",
      "A value is trying to be set on a copy of a slice from a DataFrame\n",
      "\n",
      "See the caveats in the documentation: http://pandas.pydata.org/pandas-docs/stable/indexing.html#indexing-view-versus-copy\n",
      "  # Remove the CWD from sys.path while we load stuff.\n"
     ]
    },
    {
     "data": {
      "text/html": [
       "<div>\n",
       "<style scoped>\n",
       "    .dataframe tbody tr th:only-of-type {\n",
       "        vertical-align: middle;\n",
       "    }\n",
       "\n",
       "    .dataframe tbody tr th {\n",
       "        vertical-align: top;\n",
       "    }\n",
       "\n",
       "    .dataframe thead th {\n",
       "        text-align: right;\n",
       "    }\n",
       "</style>\n",
       "<table border=\"1\" class=\"dataframe\">\n",
       "  <thead>\n",
       "    <tr style=\"text-align: right;\">\n",
       "      <th></th>\n",
       "      <th>AvgBackgroundQ</th>\n",
       "      <th>AvgWorkflowQ</th>\n",
       "      <th>AvgThreadPoolSize</th>\n",
       "      <th>NodeId</th>\n",
       "      <th>IsProductReleased</th>\n",
       "      <th>UiNodeThreadsCount</th>\n",
       "      <th>CatalogSearchTime</th>\n",
       "      <th>NetworkConnectivitySNV-US1</th>\n",
       "      <th>LogSizeVolumePercent</th>\n",
       "      <th>Label</th>\n",
       "      <th>...</th>\n",
       "      <th>Hour</th>\n",
       "      <th>Minute</th>\n",
       "      <th>Second</th>\n",
       "      <th>DayOfYear</th>\n",
       "      <th>DayOfWeek</th>\n",
       "      <th>WeekOfYear</th>\n",
       "      <th>Quarter</th>\n",
       "      <th>IsWeekend</th>\n",
       "      <th>IsMonthStart</th>\n",
       "      <th>IsMonthEnd</th>\n",
       "    </tr>\n",
       "  </thead>\n",
       "  <tbody>\n",
       "    <tr>\n",
       "      <th>0</th>\n",
       "      <td>164.0</td>\n",
       "      <td>18.0</td>\n",
       "      <td>10.0</td>\n",
       "      <td>76</td>\n",
       "      <td>1</td>\n",
       "      <td>1.0</td>\n",
       "      <td>9.0</td>\n",
       "      <td>1</td>\n",
       "      <td>0.232</td>\n",
       "      <td>6</td>\n",
       "      <td>...</td>\n",
       "      <td>0</td>\n",
       "      <td>0</td>\n",
       "      <td>0</td>\n",
       "      <td>1</td>\n",
       "      <td>6</td>\n",
       "      <td>52</td>\n",
       "      <td>1</td>\n",
       "      <td>1</td>\n",
       "      <td>1</td>\n",
       "      <td>0</td>\n",
       "    </tr>\n",
       "    <tr>\n",
       "      <th>1</th>\n",
       "      <td>231.0</td>\n",
       "      <td>5.0</td>\n",
       "      <td>13.0</td>\n",
       "      <td>65</td>\n",
       "      <td>1</td>\n",
       "      <td>567.0</td>\n",
       "      <td>5.0</td>\n",
       "      <td>1</td>\n",
       "      <td>0.326</td>\n",
       "      <td>6</td>\n",
       "      <td>...</td>\n",
       "      <td>0</td>\n",
       "      <td>30</td>\n",
       "      <td>0</td>\n",
       "      <td>1</td>\n",
       "      <td>6</td>\n",
       "      <td>52</td>\n",
       "      <td>1</td>\n",
       "      <td>1</td>\n",
       "      <td>1</td>\n",
       "      <td>0</td>\n",
       "    </tr>\n",
       "    <tr>\n",
       "      <th>2</th>\n",
       "      <td>159.0</td>\n",
       "      <td>41.0</td>\n",
       "      <td>11.0</td>\n",
       "      <td>66</td>\n",
       "      <td>0</td>\n",
       "      <td>322.0</td>\n",
       "      <td>14.0</td>\n",
       "      <td>1</td>\n",
       "      <td>0.890</td>\n",
       "      <td>3</td>\n",
       "      <td>...</td>\n",
       "      <td>1</td>\n",
       "      <td>0</td>\n",
       "      <td>0</td>\n",
       "      <td>1</td>\n",
       "      <td>6</td>\n",
       "      <td>52</td>\n",
       "      <td>1</td>\n",
       "      <td>1</td>\n",
       "      <td>1</td>\n",
       "      <td>0</td>\n",
       "    </tr>\n",
       "    <tr>\n",
       "      <th>3</th>\n",
       "      <td>323.0</td>\n",
       "      <td>31.0</td>\n",
       "      <td>13.0</td>\n",
       "      <td>61</td>\n",
       "      <td>1</td>\n",
       "      <td>318.0</td>\n",
       "      <td>16.0</td>\n",
       "      <td>1</td>\n",
       "      <td>0.353</td>\n",
       "      <td>2</td>\n",
       "      <td>...</td>\n",
       "      <td>1</td>\n",
       "      <td>30</td>\n",
       "      <td>0</td>\n",
       "      <td>1</td>\n",
       "      <td>6</td>\n",
       "      <td>52</td>\n",
       "      <td>1</td>\n",
       "      <td>1</td>\n",
       "      <td>1</td>\n",
       "      <td>0</td>\n",
       "    </tr>\n",
       "    <tr>\n",
       "      <th>4</th>\n",
       "      <td>289.0</td>\n",
       "      <td>13.0</td>\n",
       "      <td>10.0</td>\n",
       "      <td>76</td>\n",
       "      <td>1</td>\n",
       "      <td>-999.0</td>\n",
       "      <td>36.0</td>\n",
       "      <td>1</td>\n",
       "      <td>0.748</td>\n",
       "      <td>5</td>\n",
       "      <td>...</td>\n",
       "      <td>2</td>\n",
       "      <td>0</td>\n",
       "      <td>0</td>\n",
       "      <td>1</td>\n",
       "      <td>6</td>\n",
       "      <td>52</td>\n",
       "      <td>1</td>\n",
       "      <td>1</td>\n",
       "      <td>1</td>\n",
       "      <td>0</td>\n",
       "    </tr>\n",
       "  </tbody>\n",
       "</table>\n",
       "<p>5 rows × 25 columns</p>\n",
       "</div>"
      ],
      "text/plain": [
       "   AvgBackgroundQ  AvgWorkflowQ  AvgThreadPoolSize  NodeId  IsProductReleased  \\\n",
       "0           164.0          18.0               10.0      76                  1   \n",
       "1           231.0           5.0               13.0      65                  1   \n",
       "2           159.0          41.0               11.0      66                  0   \n",
       "3           323.0          31.0               13.0      61                  1   \n",
       "4           289.0          13.0               10.0      76                  1   \n",
       "\n",
       "   UiNodeThreadsCount  CatalogSearchTime  NetworkConnectivitySNV-US1  \\\n",
       "0                 1.0                9.0                           1   \n",
       "1               567.0                5.0                           1   \n",
       "2               322.0               14.0                           1   \n",
       "3               318.0               16.0                           1   \n",
       "4              -999.0               36.0                           1   \n",
       "\n",
       "   LogSizeVolumePercent  Label     ...     Hour  Minute  Second  DayOfYear  \\\n",
       "0                 0.232      6     ...        0       0       0          1   \n",
       "1                 0.326      6     ...        0      30       0          1   \n",
       "2                 0.890      3     ...        1       0       0          1   \n",
       "3                 0.353      2     ...        1      30       0          1   \n",
       "4                 0.748      5     ...        2       0       0          1   \n",
       "\n",
       "   DayOfWeek  WeekOfYear  Quarter  IsWeekend  IsMonthStart  IsMonthEnd  \n",
       "0          6          52        1          1             1           0  \n",
       "1          6          52        1          1             1           0  \n",
       "2          6          52        1          1             1           0  \n",
       "3          6          52        1          1             1           0  \n",
       "4          6          52        1          1             1           0  \n",
       "\n",
       "[5 rows x 25 columns]"
      ]
     },
     "execution_count": 9,
     "metadata": {},
     "output_type": "execute_result"
    }
   ],
   "source": [
    "# Consider all negative values for AvgBackgroundQ, AvgThreadPoolSize, AvgWorkflowQ, CatalogSearchTime, UiNodeThreadsCount\n",
    "# as Missing values and replace with -999\n",
    "\n",
    "df = sample1.copy()\n",
    "\n",
    "df['AvgBackgroundQ'][df['AvgBackgroundQ'] < 1] = np.NAN\n",
    "df['AvgThreadPoolSize'][df['AvgThreadPoolSize'] < 1] = np.NAN\n",
    "df['AvgWorkflowQ'][df['AvgWorkflowQ'] < 1] = np.NAN\n",
    "df['CatalogSearchTime'][df['CatalogSearchTime'] < 1] = np.NAN\n",
    "df['UiNodeThreadsCount'][df['UiNodeThreadsCount'] < 1] = np.NAN\n",
    "\n",
    "# df['AvgBackgroundQ'].hist()\n",
    "# df['AvgThreadPoolSize'].hist()\n",
    "# df['AvgWorkflowQ'].hist()\n",
    "# df['CatalogSearchTime'].hist()\n",
    "# df['UiNodeThreadsCount'].hist()\n",
    "\n",
    "# Fill NaN values with -999\n",
    "df = df.fillna(-999)\n",
    "\n",
    "\n",
    "#Assign number to label\n",
    "df['Label'] = df['Label'].apply(incidentTypes.index)\n",
    "df['CloudHealthIndex'] = df['CloudHealthIndex'].apply(cloudHealthValues.index)\n",
    "\n",
    "# Create new features from date\n",
    "df['Day'] = df['Date'].dt.day\n",
    "df['Month'] = df['Date'].dt.month\n",
    "df['Year'] = df['Date'].dt.year\n",
    "df['Hour'] = df['Date'].dt.hour\n",
    "df['Minute'] = df['Date'].dt.minute\n",
    "df['Second'] = df['Date'].dt.second\n",
    "\n",
    "df['DayOfYear'] = df['Date'].dt.dayofyear\n",
    "df['DayOfWeek'] = df['Date'].dt.dayofweek\n",
    "df['WeekOfYear'] = df['Date'].dt.weekofyear\n",
    "\n",
    "df['WeekOfYear'] = df['Date'].dt.weekofyear\n",
    "df['Quarter'] = df['Date'].dt.quarter\n",
    "\n",
    "df['IsWeekend'] = (df['Date'].dt.dayofweek > 4).astype(int)\n",
    "df['IsMonthStart'] = (df['Date'].dt.is_month_start).astype(int)\n",
    "df['IsMonthEnd'] = (df['Date'].dt.is_month_end).astype(int)\n",
    "\n",
    "df.head()\n",
    "\n"
   ]
  },
  {
   "cell_type": "code",
   "execution_count": 10,
   "metadata": {},
   "outputs": [
    {
     "data": {
      "text/plain": [
       "0    6\n",
       "1    6\n",
       "2    3\n",
       "3    2\n",
       "4    5\n",
       "Name: Label, dtype: int64"
      ]
     },
     "execution_count": 10,
     "metadata": {},
     "output_type": "execute_result"
    }
   ],
   "source": [
    "features = df.columns.drop(['Label', 'Date'])\n",
    "\n",
    "X = df[features]\n",
    "y = df['Label']\n",
    "\n",
    "X.head()\n",
    "y.head()"
   ]
  },
  {
   "cell_type": "markdown",
   "metadata": {},
   "source": [
    "### Training a model "
   ]
  },
  {
   "cell_type": "code",
   "execution_count": 11,
   "metadata": {},
   "outputs": [
    {
     "data": {
      "text/plain": [
       "0.1272"
      ]
     },
     "execution_count": 11,
     "metadata": {},
     "output_type": "execute_result"
    }
   ],
   "source": [
    "from sklearn.model_selection import train_test_split\n",
    "\n",
    "X_train, X_test, y_train, y_test = train_test_split(X,y)\n",
    "\n",
    "# K-NN \n",
    "from sklearn.neighbors import KNeighborsClassifier\n",
    "\n",
    "knn = KNeighborsClassifier(n_neighbors=5)\n",
    "knn.fit(X_train, y_train)\n",
    "knn.score(X_test, y_test)\n"
   ]
  },
  {
   "cell_type": "markdown",
   "metadata": {},
   "source": [
    "## Saving a model"
   ]
  },
  {
   "cell_type": "code",
   "execution_count": 12,
   "metadata": {},
   "outputs": [],
   "source": [
    "import pickle\n",
    "import dill as pickle\n",
    "\n",
    "filename = 'model_v1.pk'\n",
    "\n",
    "with open('models/'+filename, 'wb') as file:\n",
    "    pickle.dump(knn, file)"
   ]
  },
  {
   "cell_type": "markdown",
   "metadata": {},
   "source": [
    "## Loading a model"
   ]
  },
  {
   "cell_type": "code",
   "execution_count": 13,
   "metadata": {},
   "outputs": [
    {
     "data": {
      "text/plain": [
       "0.1272"
      ]
     },
     "execution_count": 13,
     "metadata": {},
     "output_type": "execute_result"
    }
   ],
   "source": [
    "with open('models/'+filename ,'rb') as f:\n",
    "    loaded_model = pickle.load(f)\n",
    "    \n",
    "loaded_model.score(X_test, y_test)"
   ]
  },
  {
   "cell_type": "code",
   "execution_count": 14,
   "metadata": {},
   "outputs": [
    {
     "data": {
      "text/plain": [
       "0         NetworkIssue\n",
       "1    DBConnectionIssue\n",
       "2           OrderIssue\n",
       "3              NoIssue\n",
       "4              NoIssue\n",
       "dtype: object"
      ]
     },
     "execution_count": 14,
     "metadata": {},
     "output_type": "execute_result"
    }
   ],
   "source": [
    "predicitons = loaded_model.predict(X_test)\n",
    "predNames = pd.Series(predicitons).apply(lambda x : incidentTypes[x])\n",
    "predNames.head()"
   ]
  },
  {
   "cell_type": "code",
   "execution_count": 15,
   "metadata": {},
   "outputs": [
    {
     "data": {
      "text/plain": [
       "'[{\"AvgBackgroundQ\":164,\"AvgWorkflowQ\":18,\"AvgThreadPoolSize\":10,\"NodeId\":76,\"IsProductReleased\":1,\"UiNodeThreadsCount\":1,\"CatalogSearchTime\":9,\"NetworkConnectivitySNV-US1\":1,\"LogSizeVolumePercent\":0.232,\"Label\":\"NetworkIssue\",\"Date\":1483228800000,\"CloudHealthIndex\":\"FAIR\"}]'"
      ]
     },
     "execution_count": 15,
     "metadata": {},
     "output_type": "execute_result"
    }
   ],
   "source": [
    "import json\n",
    "from flask import jsonify\n",
    "# json.dumps(df.iloc[:1])\n",
    "inp = sample1.iloc[:1].to_json(orient='records')\n",
    "inp"
   ]
  },
  {
   "cell_type": "code",
   "execution_count": 16,
   "metadata": {},
   "outputs": [
    {
     "data": {
      "text/html": [
       "<div>\n",
       "<style scoped>\n",
       "    .dataframe tbody tr th:only-of-type {\n",
       "        vertical-align: middle;\n",
       "    }\n",
       "\n",
       "    .dataframe tbody tr th {\n",
       "        vertical-align: top;\n",
       "    }\n",
       "\n",
       "    .dataframe thead th {\n",
       "        text-align: right;\n",
       "    }\n",
       "</style>\n",
       "<table border=\"1\" class=\"dataframe\">\n",
       "  <thead>\n",
       "    <tr style=\"text-align: right;\">\n",
       "      <th></th>\n",
       "      <th>AvgBackgroundQ</th>\n",
       "      <th>AvgThreadPoolSize</th>\n",
       "      <th>AvgWorkflowQ</th>\n",
       "      <th>CatalogSearchTime</th>\n",
       "      <th>CloudHealthIndex</th>\n",
       "      <th>Date</th>\n",
       "      <th>IsProductReleased</th>\n",
       "      <th>Label</th>\n",
       "      <th>LogSizeVolumePercent</th>\n",
       "      <th>NetworkConnectivitySNV-US1</th>\n",
       "      <th>NodeId</th>\n",
       "      <th>UiNodeThreadsCount</th>\n",
       "    </tr>\n",
       "  </thead>\n",
       "  <tbody>\n",
       "    <tr>\n",
       "      <th>0</th>\n",
       "      <td>164</td>\n",
       "      <td>10</td>\n",
       "      <td>18</td>\n",
       "      <td>9</td>\n",
       "      <td>FAIR</td>\n",
       "      <td>2017-01-01</td>\n",
       "      <td>1</td>\n",
       "      <td>NetworkIssue</td>\n",
       "      <td>0.232</td>\n",
       "      <td>1</td>\n",
       "      <td>76</td>\n",
       "      <td>1</td>\n",
       "    </tr>\n",
       "  </tbody>\n",
       "</table>\n",
       "</div>"
      ],
      "text/plain": [
       "   AvgBackgroundQ  AvgThreadPoolSize  AvgWorkflowQ  CatalogSearchTime  \\\n",
       "0             164                 10            18                  9   \n",
       "\n",
       "  CloudHealthIndex       Date  IsProductReleased         Label  \\\n",
       "0             FAIR 2017-01-01                  1  NetworkIssue   \n",
       "\n",
       "   LogSizeVolumePercent  NetworkConnectivitySNV-US1  NodeId  \\\n",
       "0                 0.232                           1      76   \n",
       "\n",
       "   UiNodeThreadsCount  \n",
       "0                   1  "
      ]
     },
     "execution_count": 16,
     "metadata": {},
     "output_type": "execute_result"
    }
   ],
   "source": [
    "pd.read_json(inp)"
   ]
  },
  {
   "cell_type": "code",
   "execution_count": 17,
   "metadata": {},
   "outputs": [],
   "source": [
    "jsn1 = \"[{'AvgBackgroundQ': 302, 'AvgThreadPoolSize': 7, 'AvgWorkflowQ': 32, 'CatalogSearchTime': 10, 'CloudHealthIndex': 'CRITICAL', 'Date': 1483228800000, 'IsProductReleased': 0, 'Label': 'NetworkIssue', 'LogSizeVolumePercent': 0.087, 'NetworkConnectivitySNV-US1': 1, 'NodeId': 63, 'UiNodeThreadsCount': 403}]\""
   ]
  },
  {
   "cell_type": "code",
   "execution_count": 18,
   "metadata": {},
   "outputs": [
    {
     "data": {
      "text/plain": [
       "\"[{'AvgBackgroundQ': 302, 'AvgThreadPoolSize': 7, 'AvgWorkflowQ': 32, 'CatalogSearchTime': 10, 'CloudHealthIndex': 'CRITICAL', 'Date': 1483228800000, 'IsProductReleased': 0, 'Label': 'NetworkIssue', 'LogSizeVolumePercent': 0.087, 'NetworkConnectivitySNV-US1': 1, 'NodeId': 63, 'UiNodeThreadsCount': 403}]\""
      ]
     },
     "execution_count": 18,
     "metadata": {},
     "output_type": "execute_result"
    }
   ],
   "source": [
    "jsn1"
   ]
  },
  {
   "cell_type": "code",
   "execution_count": 19,
   "metadata": {},
   "outputs": [
    {
     "data": {
      "text/plain": [
       "'[{\"AvgBackgroundQ\": 302, \"AvgThreadPoolSize\": 7, \"AvgWorkflowQ\": 32, \"CatalogSearchTime\": 10, \"CloudHealthIndex\": \"CRITICAL\", \"Date\": 1483228800000, \"IsProductReleased\": 0, \"Label\": \"NetworkIssue\", \"LogSizeVolumePercent\": 0.087, \"NetworkConnectivitySNV-US1\": 1, \"NodeId\": 63, \"UiNodeThreadsCount\": 403}]'"
      ]
     },
     "execution_count": 19,
     "metadata": {},
     "output_type": "execute_result"
    }
   ],
   "source": [
    "jsn1.replace(\"'\", '\"')"
   ]
  },
  {
   "cell_type": "code",
   "execution_count": 20,
   "metadata": {},
   "outputs": [
    {
     "data": {
      "text/plain": [
       "False"
      ]
     },
     "execution_count": 20,
     "metadata": {},
     "output_type": "execute_result"
    }
   ],
   "source": [
    "df.empty"
   ]
  },
  {
   "cell_type": "code",
   "execution_count": 21,
   "metadata": {},
   "outputs": [
    {
     "data": {
      "text/plain": [
       "Index(['AvgBackgroundQ', 'AvgWorkflowQ', 'AvgThreadPoolSize', 'NodeId',\n",
       "       'IsProductReleased', 'UiNodeThreadsCount', 'CatalogSearchTime',\n",
       "       'NetworkConnectivitySNV-US1', 'LogSizeVolumePercent', 'Label', 'Date',\n",
       "       'CloudHealthIndex'],\n",
       "      dtype='object')"
      ]
     },
     "execution_count": 21,
     "metadata": {},
     "output_type": "execute_result"
    }
   ],
   "source": [
    "sample1.columns"
   ]
  },
  {
   "cell_type": "code",
   "execution_count": 27,
   "metadata": {},
   "outputs": [],
   "source": [
    "sr = pd.Series(data=[0,1,0,1,1,0])\n",
    "dict = {0 : 'False', 1 : 'True'}"
   ]
  },
  {
   "cell_type": "code",
   "execution_count": 35,
   "metadata": {},
   "outputs": [
    {
     "data": {
      "text/html": [
       "<div>\n",
       "<style scoped>\n",
       "    .dataframe tbody tr th:only-of-type {\n",
       "        vertical-align: middle;\n",
       "    }\n",
       "\n",
       "    .dataframe tbody tr th {\n",
       "        vertical-align: top;\n",
       "    }\n",
       "\n",
       "    .dataframe thead th {\n",
       "        text-align: right;\n",
       "    }\n",
       "</style>\n",
       "<table border=\"1\" class=\"dataframe\">\n",
       "  <thead>\n",
       "    <tr style=\"text-align: right;\">\n",
       "      <th></th>\n",
       "      <th>code</th>\n",
       "      <th>Name</th>\n",
       "    </tr>\n",
       "  </thead>\n",
       "  <tbody>\n",
       "    <tr>\n",
       "      <th>0</th>\n",
       "      <td>0</td>\n",
       "      <td>False</td>\n",
       "    </tr>\n",
       "    <tr>\n",
       "      <th>1</th>\n",
       "      <td>1</td>\n",
       "      <td>True</td>\n",
       "    </tr>\n",
       "    <tr>\n",
       "      <th>2</th>\n",
       "      <td>0</td>\n",
       "      <td>False</td>\n",
       "    </tr>\n",
       "    <tr>\n",
       "      <th>3</th>\n",
       "      <td>1</td>\n",
       "      <td>True</td>\n",
       "    </tr>\n",
       "    <tr>\n",
       "      <th>4</th>\n",
       "      <td>1</td>\n",
       "      <td>True</td>\n",
       "    </tr>\n",
       "    <tr>\n",
       "      <th>5</th>\n",
       "      <td>0</td>\n",
       "      <td>False</td>\n",
       "    </tr>\n",
       "  </tbody>\n",
       "</table>\n",
       "</div>"
      ],
      "text/plain": [
       "   code   Name\n",
       "0     0  False\n",
       "1     1   True\n",
       "2     0  False\n",
       "3     1   True\n",
       "4     1   True\n",
       "5     0  False"
      ]
     },
     "execution_count": 35,
     "metadata": {},
     "output_type": "execute_result"
    }
   ],
   "source": [
    "sr.replace(to_replace=dict)\n",
    "\n",
    "dd = pd.DataFrame(data=sr, columns=['code'])\n",
    "dd['Name'] = dd['code'].replace(to_replace=dict)\n",
    "\n",
    "dd.to_json(orient='records')"
   ]
  },
  {
   "cell_type": "code",
   "execution_count": null,
   "metadata": {},
   "outputs": [],
   "source": []
  }
 ],
 "metadata": {
  "kernelspec": {
   "display_name": "Python 3",
   "language": "python",
   "name": "python3"
  },
  "language_info": {
   "codemirror_mode": {
    "name": "ipython",
    "version": 3
   },
   "file_extension": ".py",
   "mimetype": "text/x-python",
   "name": "python",
   "nbconvert_exporter": "python",
   "pygments_lexer": "ipython3",
   "version": "3.6.4"
  }
 },
 "nbformat": 4,
 "nbformat_minor": 2
}
